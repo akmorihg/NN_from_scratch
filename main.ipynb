{
 "cells": [
  {
   "cell_type": "code",
   "id": "initial_id",
   "metadata": {
    "collapsed": true,
    "ExecuteTime": {
     "end_time": "2024-10-10T19:51:50.070625Z",
     "start_time": "2024-10-10T19:51:48.951889Z"
    }
   },
   "source": [
    "import struct\n",
    "from typing import List\n",
    "\n",
    "import numpy as np\n",
    "import matplotlib.pyplot as plt\n",
    "\n",
    "from tqdm.auto import tqdm\n",
    "\n",
    "from sklearn.metrics import confusion_matrix, ConfusionMatrixDisplay\n",
    "\n",
    "# Okay, this is for using GPU POWEEEER\n",
    "import cupy as cp\n",
    "\n",
    "print(cp.cuda.runtime.getDeviceCount())"
   ],
   "outputs": [
    {
     "name": "stdout",
     "output_type": "stream",
     "text": [
      "1\n"
     ]
    }
   ],
   "execution_count": 1
  },
  {
   "metadata": {},
   "cell_type": "markdown",
   "source": "# Reading Data",
   "id": "442138ec72aa04f7"
  },
  {
   "metadata": {
    "ExecuteTime": {
     "end_time": "2024-10-10T19:52:03.449907Z",
     "start_time": "2024-10-10T19:52:03.446150Z"
    }
   },
   "cell_type": "code",
   "source": [
    "def load_images(path: str):\n",
    "    # Images in 784x1 format\n",
    "    images = []\n",
    "    \n",
    "    with open(path, mode='rb') as f:\n",
    "        # Read header values\n",
    "        magic_number, n, rows, cols = struct.unpack('>IIII', f.read(16))\n",
    "        \n",
    "        for _ in range(n):\n",
    "            # Read and unpack image (which has 28x28 bytes)\n",
    "            image = list(struct.unpack('>' + 'B' * (rows * cols), f.read(rows * cols)))\n",
    "            images.append(image)\n",
    "    \n",
    "    return np.array(images)"
   ],
   "id": "bd7dd7e6d54826a5",
   "outputs": [],
   "execution_count": 2
  },
  {
   "metadata": {
    "ExecuteTime": {
     "end_time": "2024-10-10T19:52:03.776067Z",
     "start_time": "2024-10-10T19:52:03.773312Z"
    }
   },
   "cell_type": "code",
   "source": [
    "def load_labels(path: str):\n",
    "    with open(path, mode='rb') as f:\n",
    "        # Read header values\n",
    "        magic_number, n = struct.unpack('>II', f.read(8))\n",
    "        \n",
    "        # Read and return labels\n",
    "        return np.array(struct.unpack('>' + 'B' * n, f.read(n)))"
   ],
   "id": "b4579a303621b220",
   "outputs": [],
   "execution_count": 3
  },
  {
   "metadata": {
    "ExecuteTime": {
     "end_time": "2024-10-10T19:52:04.126992Z",
     "start_time": "2024-10-10T19:52:04.124430Z"
    }
   },
   "cell_type": "code",
   "source": [
    "def save_file(path, data):\n",
    "    with open(path, 'wb') as f:\n",
    "        f.write(data)"
   ],
   "id": "d1b65c067f2b5e55",
   "outputs": [],
   "execution_count": 4
  },
  {
   "metadata": {
    "ExecuteTime": {
     "end_time": "2024-10-10T19:52:06.414771Z",
     "start_time": "2024-10-10T19:52:04.524421Z"
    }
   },
   "cell_type": "code",
   "source": [
    "train_images_path = \"train-images.idx3-ubyte\"\n",
    "train_labels_path = \"train-labels.idx1-ubyte\"\n",
    "test_images_path = \"t10k-images.idx3-ubyte\"\n",
    "test_labels_path = \"t10k-labels.idx1-ubyte\"\n",
    "\n",
    "train_images = load_images(train_images_path)\n",
    "train_labels = load_labels(train_labels_path)\n",
    "test_images = load_images(test_images_path)\n",
    "test_labels = load_labels(test_labels_path)"
   ],
   "id": "6faca7926a7e0471",
   "outputs": [],
   "execution_count": 5
  },
  {
   "metadata": {},
   "cell_type": "markdown",
   "source": "## Whitening (Z-Scoring) data",
   "id": "4e69b32c20cf7186"
  },
  {
   "metadata": {
    "ExecuteTime": {
     "end_time": "2024-10-10T19:52:07.315343Z",
     "start_time": "2024-10-10T19:52:07.312886Z"
    }
   },
   "cell_type": "code",
   "source": [
    "def z_score(data):\n",
    "    mean = np.mean(data)\n",
    "    std = np.std(data)\n",
    "    return mean, std, (data - mean) / std"
   ],
   "id": "78e1717ed30db701",
   "outputs": [],
   "execution_count": 6
  },
  {
   "metadata": {
    "ExecuteTime": {
     "end_time": "2024-10-10T19:52:08.121842Z",
     "start_time": "2024-10-10T19:52:07.827213Z"
    }
   },
   "cell_type": "code",
   "source": "mean, std, train_images = z_score(train_images)",
   "id": "fecae37194690b0e",
   "outputs": [],
   "execution_count": 7
  },
  {
   "metadata": {
    "ExecuteTime": {
     "end_time": "2024-10-10T19:52:08.347426Z",
     "start_time": "2024-10-10T19:52:08.324548Z"
    }
   },
   "cell_type": "code",
   "source": "test_images = (test_images - mean) / std",
   "id": "d9fc1e3570477174",
   "outputs": [],
   "execution_count": 8
  },
  {
   "metadata": {
    "ExecuteTime": {
     "end_time": "2024-10-10T19:52:09.098260Z",
     "start_time": "2024-10-10T19:52:08.831709Z"
    }
   },
   "cell_type": "code",
   "source": [
    "save_file(\"preprocessed_data/train_images\", train_images)\n",
    "save_file(\"preprocessed_data/test_images\", test_images)"
   ],
   "id": "18e7aa6d178f9e56",
   "outputs": [],
   "execution_count": 9
  },
  {
   "metadata": {},
   "cell_type": "markdown",
   "source": "# Re-shape and Visualization",
   "id": "c9a6dc66c1f6fedf"
  },
  {
   "metadata": {
    "ExecuteTime": {
     "end_time": "2024-10-10T19:52:09.754237Z",
     "start_time": "2024-10-10T19:52:09.751982Z"
    }
   },
   "cell_type": "code",
   "source": [
    "def reshape_matrix_to_images(matrix_images):\n",
    "    apply_function = lambda row: row.reshape((28, 28))\n",
    "    return np.apply_along_axis(apply_function, axis=1, arr=matrix_images)"
   ],
   "id": "35bd238546f13dcd",
   "outputs": [],
   "execution_count": 10
  },
  {
   "metadata": {
    "ExecuteTime": {
     "end_time": "2024-10-10T19:52:10.133125Z",
     "start_time": "2024-10-10T19:52:10.131148Z"
    }
   },
   "cell_type": "code",
   "source": [
    "def plot_image(reshaped_image, label = \"\"):\n",
    "    plt.imshow(reshaped_image, cmap=plt.get_cmap('gray'))\n",
    "    if label != \"\":\n",
    "        plt.title(f\"Label: {label}\")\n",
    "    plt.show()"
   ],
   "id": "78cb0ee208741da5",
   "outputs": [],
   "execution_count": 11
  },
  {
   "metadata": {},
   "cell_type": "markdown",
   "source": "## Checking image-label pair",
   "id": "f7e7f77bd9b7ebff"
  },
  {
   "metadata": {},
   "cell_type": "markdown",
   "source": "### Train Data",
   "id": "bb6f9e34fffd44ee"
  },
  {
   "metadata": {
    "ExecuteTime": {
     "end_time": "2024-10-10T19:52:12.111248Z",
     "start_time": "2024-10-10T19:52:11.897354Z"
    }
   },
   "cell_type": "code",
   "source": [
    "reshaped_images = reshape_matrix_to_images(train_images)\n",
    "rand_index = np.random.randint(0, len(train_images))\n",
    "plot_image(reshaped_images[rand_index], train_labels[rand_index])"
   ],
   "id": "4be6950b6a302b6e",
   "outputs": [
    {
     "data": {
      "text/plain": [
       "<Figure size 640x480 with 1 Axes>"
      ],
      "image/png": "[encoded data removed]"
     },
     "metadata": {},
     "output_type": "display_data"
    }
   ],
   "execution_count": 12
  },
  {
   "metadata": {
    "ExecuteTime": {
     "end_time": "2024-10-10T19:52:12.638684Z",
     "start_time": "2024-10-10T19:52:12.635793Z"
    }
   },
   "cell_type": "code",
   "source": [
    "def one_hot_encoding(labels):\n",
    "    one_hot_encoded_labels = []\n",
    "    for i, label in enumerate(labels):\n",
    "        one_hot_label = np.zeros(10)\n",
    "        one_hot_label[label] = 1.0\n",
    "        one_hot_encoded_labels.append(one_hot_label)\n",
    "    \n",
    "    return np.array(one_hot_encoded_labels)"
   ],
   "id": "d62d96458f5bafb0",
   "outputs": [],
   "execution_count": 13
  },
  {
   "metadata": {
    "ExecuteTime": {
     "end_time": "2024-10-10T19:52:13.010105Z",
     "start_time": "2024-10-10T19:52:13.007760Z"
    }
   },
   "cell_type": "code",
   "source": [
    "def one_hot_decoding(one_hot_encoded_labels):\n",
    "    if len(one_hot_encoded_labels.shape) == 1:\n",
    "        return np.argmax(one_hot_encoded_labels)\n",
    "    return np.argmax(one_hot_encoded_labels, axis=1)"
   ],
   "id": "2b0c7f8ae15e3674",
   "outputs": [],
   "execution_count": 14
  },
  {
   "metadata": {
    "ExecuteTime": {
     "end_time": "2024-10-10T19:52:13.418655Z",
     "start_time": "2024-10-10T19:52:13.387406Z"
    }
   },
   "cell_type": "code",
   "source": [
    "train_encoded_labels = one_hot_encoding(train_labels)\n",
    "test_encoded_labels = one_hot_encoding(test_labels)"
   ],
   "id": "8df878d6ea86c70f",
   "outputs": [],
   "execution_count": 15
  },
  {
   "metadata": {},
   "cell_type": "markdown",
   "source": "## Checking 'one_hot_encoding' function working correct",
   "id": "6345f7c0b0317a2a"
  },
  {
   "metadata": {
    "ExecuteTime": {
     "end_time": "2024-10-10T19:52:14.515041Z",
     "start_time": "2024-10-10T19:52:14.512119Z"
    }
   },
   "cell_type": "code",
   "source": "train_encoded_labels[8:10]",
   "id": "84ba94d42bca7d67",
   "outputs": [
    {
     "data": {
      "text/plain": [
       "array([[0., 1., 0., 0., 0., 0., 0., 0., 0., 0.],\n",
       "       [0., 0., 0., 0., 1., 0., 0., 0., 0., 0.]])"
      ]
     },
     "execution_count": 16,
     "metadata": {},
     "output_type": "execute_result"
    }
   ],
   "execution_count": 16
  },
  {
   "metadata": {
    "ExecuteTime": {
     "end_time": "2024-10-10T19:52:15.182026Z",
     "start_time": "2024-10-10T19:52:15.178556Z"
    }
   },
   "cell_type": "code",
   "source": "train_labels[8:10]",
   "id": "8932d609a677299b",
   "outputs": [
    {
     "data": {
      "text/plain": [
       "array([1, 4])"
      ]
     },
     "execution_count": 17,
     "metadata": {},
     "output_type": "execute_result"
    }
   ],
   "execution_count": 17
  },
  {
   "metadata": {
    "ExecuteTime": {
     "end_time": "2024-10-10T19:52:15.734297Z",
     "start_time": "2024-10-10T19:52:15.730834Z"
    }
   },
   "cell_type": "code",
   "source": "one_hot_decoding(train_encoded_labels[8:10])",
   "id": "1133f6772e389304",
   "outputs": [
    {
     "data": {
      "text/plain": [
       "array([1, 4])"
      ]
     },
     "execution_count": 18,
     "metadata": {},
     "output_type": "execute_result"
    }
   ],
   "execution_count": 18
  },
  {
   "metadata": {},
   "cell_type": "markdown",
   "source": "# NN",
   "id": "62b043ba0cbacbaa"
  },
  {
   "metadata": {},
   "cell_type": "markdown",
   "source": "## Activation Functions",
   "id": "a2a3505480cb53df"
  },
  {
   "metadata": {
    "ExecuteTime": {
     "end_time": "2024-10-10T20:01:20.872392Z",
     "start_time": "2024-10-10T20:01:20.868662Z"
    }
   },
   "cell_type": "code",
   "source": [
    "from abc import ABC, abstractmethod\n",
    "\n",
    "\n",
    "class ActivationFunction(ABC):\n",
    "    def __init__(self, cuda=False):\n",
    "        self.cuda = cuda\n",
    "    \n",
    "    @abstractmethod\n",
    "    def forward(self, x):\n",
    "        pass\n",
    "    \n",
    "    @abstractmethod\n",
    "    def derivatives(self, x):\n",
    "        pass\n",
    "\n",
    "class Relu(ActivationFunction):\n",
    "    def forward(self, x):\n",
    "        if self.cuda:\n",
    "            return cp.maximum(0, x)\n",
    "        \n",
    "        return np.maximum(x, 0)\n",
    "    \n",
    "    def derivatives(self, x):\n",
    "        if self.cuda:\n",
    "            x = cp.asarray(x)\n",
    "        \n",
    "        return x > 0\n",
    "\n",
    "class Softmax(ActivationFunction):\n",
    "    def forward(self, x):\n",
    "        if self.cuda:\n",
    "            x = cp.asarray(x)\n",
    "            exps = cp.exp(x - cp.max(x))\n",
    "            return exps / cp.sum(exps)\n",
    "            \n",
    "        exps = np.exp(x - np.max(x))\n",
    "        return exps / np.sum(exps)\n",
    "    \n",
    "    def derivatives(self, x):\n",
    "        return 1"
   ],
   "id": "671cc4dd692f7e9f",
   "outputs": [],
   "execution_count": 19
  },
  {
   "metadata": {},
   "cell_type": "markdown",
   "source": "## Weight Initializers",
   "id": "c3a3df6e772139ce"
  },
  {
   "metadata": {
    "ExecuteTime": {
     "end_time": "2024-10-10T20:01:26.180112Z",
     "start_time": "2024-10-10T20:01:26.175364Z"
    }
   },
   "cell_type": "code",
   "source": [
    "class WeightInitializer(ABC):\n",
    "    @abstractmethod\n",
    "    def init(self, n_in, n_out, cuda=False):\n",
    "        pass\n",
    "    \n",
    "class NormalInitializer(WeightInitializer):\n",
    "    def init(self, n_in, n_out, cuda=False):\n",
    "        if cuda:\n",
    "            return cp.random.standard_normal(size=(n_in, n_out))\n",
    "        \n",
    "        return np.random.standard_normal(size=(n_in, n_out))\n",
    "    \n",
    "class XavierInitializer(WeightInitializer):\n",
    "    def init(self, n_in, n_out, cuda=False):\n",
    "        if cuda:\n",
    "            return cp.random.normal(0, 1/n_in, size=(n_in, n_out))\n",
    "        \n",
    "        return np.random.normal(0, 1/n_in, size=(n_in, n_out))\n",
    "\n",
    "# Weights initializer from given research paper and yes, it works SUPER\n",
    "class PaperInitializer(WeightInitializer):\n",
    "    def init(self, n_in, n_out, cuda=False):\n",
    "        if cuda:\n",
    "            return cp.random.normal(0, np.sqrt(2/n_in), size=(n_in, n_out))\n",
    "        \n",
    "        return np.random.normal(0, np.sqrt(2/n_in), size=(n_in, n_out))"
   ],
   "id": "fd7ba808c64764d8",
   "outputs": [],
   "execution_count": 20
  },
  {
   "metadata": {},
   "cell_type": "markdown",
   "source": "## Optimizers",
   "id": "b345c65713d7d968"
  },
  {
   "metadata": {
    "ExecuteTime": {
     "end_time": "2024-10-10T20:20:17.756006Z",
     "start_time": "2024-10-10T20:20:17.750996Z"
    }
   },
   "cell_type": "code",
   "source": [
    "class Optimizer(ABC):\n",
    "    def __init__(self, cuda=False):\n",
    "        self.weights = None\n",
    "        self.bias = None\n",
    "        self.cuda = cuda\n",
    "    \n",
    "    def set_weights_and_bias(self, weights, bias):\n",
    "        self.weights = weights\n",
    "        self.bias = bias\n",
    "        \n",
    "    def convert_to_cupy_array(self, dW, db):\n",
    "        return cp.asarray(dW), cp.asarray(db)\n",
    "    \n",
    "    @abstractmethod\n",
    "    def optimize(self, hyperparams, dW, db):\n",
    "        pass\n",
    "\n",
    "class SGD(Optimizer):\n",
    "    def __init__(self, cuda=False):\n",
    "        super().__init__(cuda)\n",
    "    \n",
    "    def optimize(self, hyperparams, dW, db):\n",
    "        lr = hyperparams['learning_rate']\n",
    "        \n",
    "        if self.cuda:\n",
    "            dW, db = self.convert_to_cupy_array(dW, db)\n",
    "        \n",
    "        self.weights -= lr * dW\n",
    "        self.bias -= lr * db\n",
    "\n",
    "class Momentum(Optimizer):\n",
    "    def __init__(self, cuda=False):\n",
    "        super().__init__(cuda)\n",
    "        self.v = 0\n",
    "    \n",
    "    def optimize(self, hyperparams, dW, db):\n",
    "        lr = hyperparams['learning_rate']\n",
    "        beta = hyperparams[\"beta1\"]\n",
    "        \n",
    "        if self.cuda:\n",
    "            dW, db = self.convert_to_cupy_array(dW, db)\n",
    "        \n",
    "        self.v = beta * self.v + (1 - beta) * dW\n",
    "        \n",
    "        self.weights -= lr * self.v\n",
    "        self.bias -= lr * db\n",
    "        \n",
    "class RMSProp(Optimizer):\n",
    "    def __init__(self, cuda=False):\n",
    "        super().__init__(cuda)\n",
    "        self.s = 0\n",
    "    \n",
    "    def optimize(self, hyperparams, dW, db):\n",
    "        lr = hyperparams['learning_rate']\n",
    "        beta2 = hyperparams['beta2']\n",
    "        \n",
    "        if self.cuda:\n",
    "            dW, db = self.convert_to_cupy_array(dW, db)\n",
    "        \n",
    "        dW = dW ** 2\n",
    "        \n",
    "        self.s = beta2 * self.s + (1 - beta2) * dW\n",
    "        \n",
    "        self.weights -= lr * dW / np.sqrt(self.s + 1e-10)\n",
    "        self.bias -= lr * db\n",
    "        \n",
    "class Adam(Optimizer):\n",
    "    def __init__(self, cuda=False):\n",
    "        super().__init__(cuda)\n",
    "        self.v = 0\n",
    "        self.s = 0\n",
    "        \n",
    "    def optimize(self, hyperparams, dW, db):\n",
    "        lr = hyperparams['learning_rate']\n",
    "        beta1 = hyperparams['beta1']\n",
    "        beta2 = hyperparams['beta2']\n",
    "        epochs = hyperparams['epochs']\n",
    "        \n",
    "        if self.cuda:\n",
    "            dW, db = self.convert_to_cupy_array(dW, db)\n",
    "        \n",
    "        self.v = beta1 * self.v + (1 - beta1) * dW\n",
    "        self.s = beta2 * self.s + (1 - beta2) * dW**2\n",
    "        \n",
    "        self.weights -= lr * self.v / np.sqrt(self.s + 1e-10)\n",
    "        self.bias -= lr * db\n",
    "        \n",
    "        self.v = self.v / (1.0 - np.pow(beta1, epochs))\n",
    "        self.s = self.s / (1.0 - np.pow(beta2, epochs))"
   ],
   "id": "fe38b907f4883201",
   "outputs": [],
   "execution_count": 29
  },
  {
   "metadata": {},
   "cell_type": "markdown",
   "source": "## Loss Functions",
   "id": "88ca070c7643c175"
  },
  {
   "metadata": {
    "ExecuteTime": {
     "end_time": "2024-10-10T20:20:03.622667Z",
     "start_time": "2024-10-10T20:20:03.619935Z"
    }
   },
   "cell_type": "code",
   "source": [
    "class LossFunction(ABC):\n",
    "    def __init__(self, cuda=False):\n",
    "        self.cuda = cuda\n",
    "    \n",
    "    @abstractmethod\n",
    "    def loss(self, y_pred, y_true):\n",
    "        pass\n",
    "    \n",
    "    @abstractmethod\n",
    "    def gradient(self, y_pred, y_true):\n",
    "        pass\n",
    "\n",
    "class MSE(LossFunction):\n",
    "    def loss(self, y_pred, y_true):\n",
    "        if self.cuda:\n",
    "            return cp.mean((y_pred - y_true) ** 2)\n",
    "        \n",
    "        return np.mean((y_pred - y_true) ** 2)\n",
    "    \n",
    "    def gradient(self, y_pred, y_true):\n",
    "        return y_pred - y_true"
   ],
   "id": "988e8f124127faa8",
   "outputs": [],
   "execution_count": 24
  },
  {
   "metadata": {
    "ExecuteTime": {
     "end_time": "2024-10-10T20:58:13.732779Z",
     "start_time": "2024-10-10T20:58:13.726598Z"
    }
   },
   "cell_type": "code",
   "source": [
    "class Layer:\n",
    "    def __init__(self, n_in, n_out, is_output = False,\n",
    "                 weight_init: WeightInitializer = PaperInitializer(),\n",
    "                 activation: str = \"relu\",\n",
    "                 optimizer = \"momentum\",\n",
    "                 cuda=False):\n",
    "        self.n_in = n_in\n",
    "        self.n_out = n_out\n",
    "        self.is_output = is_output\n",
    "        \n",
    "        self.cuda = cuda\n",
    "        \n",
    "        self.weight_init = weight_init\n",
    "        \n",
    "        if activation == \"relu\":\n",
    "            self.activation = Relu(self.cuda)\n",
    "        elif activation == \"softmax\":\n",
    "            self.activation = Softmax(self.cuda)\n",
    "        \n",
    "        optimizer = optimizer.lower()\n",
    "        if optimizer == \"sgd\":\n",
    "            self.optimizer = SGD(self.cuda)\n",
    "        elif optimizer == \"momentum\":\n",
    "            self.optimizer = Momentum(self.cuda)\n",
    "        elif optimizer == \"rmsprop\":\n",
    "            self.optimizer = RMSProp(self.cuda)\n",
    "        elif optimizer == \"adam\":\n",
    "            self.optimizer = Adam(self.cuda)\n",
    "        \n",
    "        self.weights = self.weight_init.init(n_in, n_out, self.cuda)\n",
    "        \n",
    "        if self.cuda:\n",
    "            self.bias = cp.zeros((1, n_out))\n",
    "        else:\n",
    "            self.bias = np.zeros((1, n_out))\n",
    "        \n",
    "        self.optimizer.set_weights_and_bias(self.weights, self.bias)\n",
    "        \n",
    "        self.A_prev = None\n",
    "        self.Z = None\n",
    "        \n",
    "        self.Z_mean = None\n",
    "        self.Z_std = None\n",
    "        \n",
    "        self.v = 0\n",
    "    \n",
    "    def forward(self, A_prev, is_training = True):\n",
    "        if self.cuda:\n",
    "            self.A_prev = A_prev\n",
    "            self.Z = cp.dot(A_prev, self.weights) + self.bias\n",
    "            \n",
    "            if is_training and self.Z.shape[0] != 1:\n",
    "                self.Z_mean = cp.mean(self.Z, axis = 0)\n",
    "                self.Z_std = cp.std(self.Z, axis = 0)\n",
    "    \n",
    "            if self.Z_mean is not None and self.Z_std is not None:    \n",
    "                self.Z = (self.Z - self.Z_mean) / self.Z_std\n",
    "            \n",
    "            return self.activation.forward(self.Z)\n",
    "        else:\n",
    "            self.A_prev = A_prev\n",
    "            self.Z = np.dot(A_prev, self.weights) + self.bias\n",
    "            \n",
    "            if is_training and self.Z.shape[0] != 1:\n",
    "                self.Z_mean = np.mean(self.Z, axis = 0)\n",
    "                self.Z_std = np.std(self.Z, axis = 0)\n",
    "    \n",
    "            if self.Z_mean is not None and self.Z_std is not None:    \n",
    "                self.Z = (self.Z - self.Z_mean) / self.Z_std\n",
    "            \n",
    "            return self.activation.forward(self.Z)\n",
    "\n",
    "    def backprop(self, dZ_prev, m, is_batch_mode=False):\n",
    "        if self.cuda:\n",
    "            if self.is_output:\n",
    "                dZ = dZ_prev\n",
    "            else:\n",
    "                dZ = dZ_prev * self.activation.derivatives(self.Z)\n",
    "                \n",
    "            if is_batch_mode:\n",
    "                dW = 0\n",
    "                dZ_next = []\n",
    "                for i in range(dZ_prev.shape[0]):\n",
    "                    dW += 1/m * cp.dot(self.A_prev[:,i], dZ[i,:])\n",
    "                    dZ_next.append(cp.dot(dZ[i,:], self.weights.T))\n",
    "                \n",
    "                dW /= dZ_prev.shape[0]\n",
    "                dZ_next = cp.vstack(tuple(dZ_next))\n",
    "            else:\n",
    "                dW = 1/m * cp.dot(self.A_prev.T, dZ)\n",
    "                dZ_next = cp.dot(dZ, self.weights.T)\n",
    "            \n",
    "            db = 1/m * cp.sum(dZ, axis=0, keepdims=True) / dZ_prev.shape[0]\n",
    "            \n",
    "            return dZ_next, dW, db\n",
    "        else:\n",
    "            if self.is_output:\n",
    "                dZ = dZ_prev\n",
    "            else:\n",
    "                dZ = dZ_prev * self.activation.derivatives(self.Z)\n",
    "                \n",
    "            if is_batch_mode:\n",
    "                dW = 0\n",
    "                dZ_next = []\n",
    "                for i in range(dZ_prev.shape[0]):\n",
    "                    dW += 1/m * np.dot(self.A_prev[:,i], dZ[i,:])\n",
    "                    dZ_next.append(np.dot(dZ[i,:], self.weights.T))\n",
    "                \n",
    "                dW /= dZ_prev.shape[0]\n",
    "                dZ_next = np.vstack(tuple(dZ_next))\n",
    "            else:\n",
    "                dW = 1/m * np.dot(self.A_prev.T, dZ)\n",
    "                dZ_next = np.dot(dZ, self.weights.T)\n",
    "            \n",
    "            db = 1/m * np.sum(dZ, axis=0, keepdims=True) / dZ_prev.shape[0]\n",
    "            \n",
    "            return dZ_next, dW, db\n",
    "    \n",
    "    def update(self, hyperparams, dW, db):\n",
    "        self.optimizer.optimize(hyperparams, dW, db)"
   ],
   "id": "a635f55e1dd09252",
   "outputs": [],
   "execution_count": 203
  },
  {
   "metadata": {
    "ExecuteTime": {
     "end_time": "2024-10-10T20:58:14.191693Z",
     "start_time": "2024-10-10T20:58:14.186442Z"
    }
   },
   "cell_type": "code",
   "source": [
    "class NN:\n",
    "    def __init__(self, layers: List[Layer], hyperparams: dict, loss_function: LossFunction, cuda=False):\n",
    "        self.layers = layers\n",
    "        self.layers[-1].is_output = True\n",
    "        \n",
    "        self.hyperparams = hyperparams\n",
    "        \n",
    "        self.loss_function = loss_function\n",
    "        \n",
    "        self.cuda = cuda\n",
    "    \n",
    "    def forward(self, X, is_training = True):\n",
    "        if self.cuda:\n",
    "            X = cp.asarray(X)\n",
    "        \n",
    "        if len(X.shape) == 1:\n",
    "            A_prev = X.reshape((1, X.shape[0]))\n",
    "        else:\n",
    "            A_prev = X\n",
    "            \n",
    "        for layer in self.layers:\n",
    "            A_prev = layer.forward(A_prev, is_training)\n",
    "        \n",
    "        return A_prev\n",
    "    \n",
    "    def backprop(self, y_pred, y_true, is_batch_mode=False):\n",
    "        if self.cuda:\n",
    "            y_pred = cp.asarray(y_pred)\n",
    "            y_true = cp.asarray(y_true)\n",
    "        \n",
    "        dZ = self.loss_function.gradient(y_pred, y_true)\n",
    "        \n",
    "        for layer in self.layers[::-1]:\n",
    "            dZ, dW, db = layer.backprop(dZ, y_true.shape[0], is_batch_mode)\n",
    "            layer.update(self.hyperparams, dW, db)\n",
    "    \n",
    "    def accuracy(self, y_pred, y_true):\n",
    "        axis = len(y_true.shape) - 1\n",
    "        decoded_y_pred = np.argmax(y_pred, axis = axis)\n",
    "        decoded_y_true = np.argmax(y_true, axis = axis)\n",
    "        return np.sum(decoded_y_pred == decoded_y_true) / y_true.shape[0]\n",
    "    \n",
    "    def train(self, train_set, train_label_set, test_set, test_label_set, epochs = 10000, is_batch_mode=False, batch_size=100, decay_step = 100, decay_rate = 0.96):\n",
    "        if self.cuda:\n",
    "            train_set = cp.asarray(train_set)\n",
    "            train_label_set = cp.asarray(train_label_set)\n",
    "            test_set = cp.asarray(test_set)\n",
    "            test_label_set = cp.asarray(test_label_set)\n",
    "        \n",
    "        self.hyperparams[\"epochs\"] = epochs\n",
    "        \n",
    "        train_losses = []\n",
    "        test_losses = []\n",
    "        \n",
    "        avg_train_loss = 0\n",
    "        avg_test_loss = 0\n",
    "        \n",
    "        batch_count = train_set.shape[0] // batch_size\n",
    "        \n",
    "        for epoch in tqdm(range(epochs + 1)):\n",
    "            if is_batch_mode:\n",
    "                rand_batch_idx = np.random.randint(0, batch_count - 1)\n",
    "                start = rand_batch_idx * batch_size\n",
    "                end = min((rand_batch_idx + 1) * batch_size, train_set.shape[0])\n",
    "                X = train_set[start:end]\n",
    "                y = train_label_set[start:end]\n",
    "            else:\n",
    "                rand_idx = np.random.randint(0, train_set.shape[0])\n",
    "                X = train_set[rand_idx]\n",
    "                y = train_label_set[rand_idx]\n",
    "            \n",
    "            y_pred = self.forward(X)\n",
    "            \n",
    "            training_loss = self.loss_function.loss(y_pred, y)\n",
    "            avg_train_loss += training_loss\n",
    "            \n",
    "            self.backprop(y_pred, y)\n",
    "            \n",
    "            rand_idx = np.random.randint(0, test_set.shape[0])\n",
    "            X_test = test_set[rand_idx]\n",
    "            y_test = test_label_set[rand_idx]\n",
    "            \n",
    "            test_y_pred = self.forward(X_test, is_training = False)\n",
    "            test_loss = self.loss_function.loss(test_y_pred, y_test)\n",
    "            avg_test_loss += test_loss\n",
    "            \n",
    "            if epoch % decay_step == 0 and epoch > 0:\n",
    "                hyperparams[\"learning_rate\"] *= decay_rate\n",
    "                \n",
    "                avg_train_loss /= decay_step\n",
    "                avg_test_loss /= decay_step\n",
    "                \n",
    "                if self.cuda:\n",
    "                    test_losses.append(avg_test_loss.get())\n",
    "                    train_losses.append(avg_train_loss.get())\n",
    "                else:\n",
    "                    test_losses.append(avg_test_loss)\n",
    "                    train_losses.append(avg_train_loss)\n",
    "                \n",
    "                print(f\"Loss (train) {epoch }: {avg_train_loss}\")\n",
    "                print(f\"Loss (test) {epoch}: {avg_test_loss}\")\n",
    "                \n",
    "                avg_train_loss = 0\n",
    "                avg_test_loss = 0\n",
    "        \n",
    "        return train_losses, test_losses"
   ],
   "id": "f7737ebe94797afa",
   "outputs": [],
   "execution_count": 204
  },
  {
   "metadata": {},
   "cell_type": "markdown",
   "source": "# Experiment",
   "id": "1c4a044c2c94ae9a"
  },
  {
   "metadata": {
    "ExecuteTime": {
     "end_time": "2024-10-10T20:58:14.740734Z",
     "start_time": "2024-10-10T20:58:14.737002Z"
    }
   },
   "cell_type": "code",
   "source": [
    "class ExperimentManager:\n",
    "    def __init__(self, experiment_folder: str):\n",
    "        self.experiment_name = experiment_folder\n",
    "        \n",
    "        self.train_set = None\n",
    "        self.train_label_set = None\n",
    "        self.validation_set = None\n",
    "        self.validation_label_set = None\n",
    "        self.test_set = None\n",
    "        self.test_label_set = None\n",
    "    \n",
    "    def load_data(self, train_data, train_labels, test_data, test_labels, train_portion = 0.75):\n",
    "        perm = np.random.permutation(train_images.shape[0])\n",
    "        \n",
    "        self.train_set = train_data[perm[:int(train_portion * train_data.shape[0])]]\n",
    "        self.train_label_set = train_labels[perm[:int(train_portion * train_labels.shape[0])]]\n",
    "        \n",
    "        self.validation_set = train_data[perm[int(train_portion * train_data.shape[0]):]]\n",
    "        self.validation_label_set = train_labels[perm[int(train_portion * train_labels.shape[0]):]]\n",
    "        \n",
    "        self.test_set = test_data\n",
    "        self.test_label_set = test_labels\n",
    "    \n",
    "    def experiment(self, experiment_name: str, nn: NN, epochs = 10000, is_batch_mode=False, batch_size=100, decay_step = 100, decay_rate = 0.96):\n",
    "        train_losses, validation_losses = nn.train(self.train_set, self.train_label_set, self.validation_set, self.validation_label_set,\n",
    "                                                   epochs, is_batch_mode, batch_size, decay_step, decay_rate)\n",
    "        plt.plot(range(0, epochs, decay_step), train_losses, label='train')\n",
    "        plt.plot(range(0, epochs, decay_step), validation_losses, label='validation')\n",
    "        plt.show()\n",
    "        \n",
    "        cuda = nn.cuda\n",
    "        \n",
    "        output = nn.forward(self.test_set, is_training = False)\n",
    "        if cuda:\n",
    "            output = output.get()\n",
    "        acc = nn.accuracy(output, test_encoded_labels)\n",
    "        output = one_hot_decoding(output)\n",
    "        \n",
    "        cf_matrix = confusion_matrix(test_labels, output)\n",
    "        cm_display = ConfusionMatrixDisplay(confusion_matrix = cf_matrix)\n",
    "        cm_display.plot()\n",
    "        plt.suptitle(f\"Accuracy on test set: {acc * 100:.2f}%\")\n",
    "        plt.savefig('results.png')"
   ],
   "id": "7e76a3ca849e4668",
   "outputs": [],
   "execution_count": 205
  },
  {
   "metadata": {},
   "cell_type": "markdown",
   "source": "## Initialization of NN with distinct params",
   "id": "b32d3a580de6cae5"
  },
  {
   "metadata": {
    "ExecuteTime": {
     "end_time": "2024-10-10T21:00:10.277178Z",
     "start_time": "2024-10-10T21:00:10.272256Z"
    }
   },
   "cell_type": "code",
   "source": [
    "epochs = 10000\n",
    "decay_step = epochs // 100\n",
    "\n",
    "hyperparams = {\n",
    "    \"learning_rate\": 0.1,\n",
    "    \"beta1\": 0.9,\n",
    "    \"beta2\": 0.999,\n",
    "}\n",
    "\n",
    "is_batch_mode = False\n",
    "batch_size = 100\n",
    "\n",
    "cuda = True\n",
    "\n",
    "nn = NN(layers=[\n",
    "    Layer(784, 512, cuda=cuda),\n",
    "    Layer(512, 10, activation=\"softmax\", cuda=cuda),\n",
    "], hyperparams=hyperparams, loss_function=MSE(), cuda=cuda)"
   ],
   "id": "b4f1f014f5c27d18",
   "outputs": [],
   "execution_count": 214
  },
  {
   "metadata": {
    "ExecuteTime": {
     "end_time": "2024-10-10T21:00:16.709590Z",
     "start_time": "2024-10-10T21:00:10.615740Z"
    }
   },
   "cell_type": "code",
   "source": [
    "em = ExperimentManager(\"test\")\n",
    "em.load_data(train_images, train_encoded_labels, test_images, test_encoded_labels)\n",
    "em.experiment(\"test1\", nn, epochs = epochs, is_batch_mode = is_batch_mode, batch_size = batch_size)"
   ],
   "id": "584e0c878af86ffa",
   "outputs": [
    {
     "data": {
      "text/plain": [
       "  0%|          | 0/10001 [00:00<?, ?it/s]"
      ],
      "application/vnd.jupyter.widget-view+json": {
       "version_major": 2,
       "version_minor": 0,
       "model_id": "d4bf2dd401e24e0bbdea95545c87213f"
      }
     },
     "metadata": {},
     "output_type": "display_data"
    },
    {
     "name": "stdout",
     "output_type": "stream",
     "text": [
      "Loss (train) 100: 0.07173370419566853\n",
      "Loss (test) 100: 0.0708137018990825\n",
      "Loss (train) 200: 0.0531297473030514\n",
      "Loss (test) 200: 0.046476370502830947\n",
      "Loss (train) 300: 0.035104684627606055\n",
      "Loss (test) 300: 0.0425770014965886\n",
      "Loss (train) 400: 0.035632348743671556\n",
      "Loss (test) 400: 0.027981353044060735\n",
      "Loss (train) 500: 0.03372123340957677\n",
      "Loss (test) 500: 0.027590046023781793\n",
      "Loss (train) 600: 0.02421285383270995\n",
      "Loss (test) 600: 0.03223282134250626\n",
      "Loss (train) 700: 0.036193407712191504\n",
      "Loss (test) 700: 0.027921140309322273\n",
      "Loss (train) 800: 0.0328570173861098\n",
      "Loss (test) 800: 0.02817912087904338\n",
      "Loss (train) 900: 0.022063058304408086\n",
      "Loss (test) 900: 0.02236818832960115\n",
      "Loss (train) 1000: 0.027317932325917303\n",
      "Loss (test) 1000: 0.027880928771537652\n",
      "Loss (train) 1100: 0.01302628352378575\n",
      "Loss (test) 1100: 0.01744668864118144\n",
      "Loss (train) 1200: 0.012611626877326481\n",
      "Loss (test) 1200: 0.015145959641169014\n",
      "Loss (train) 1300: 0.01408581321557222\n",
      "Loss (test) 1300: 0.017725726508764934\n",
      "Loss (train) 1400: 0.018854823846482696\n",
      "Loss (test) 1400: 0.012313564175237346\n",
      "Loss (train) 1500: 0.02764018421047203\n",
      "Loss (test) 1500: 0.016495667754608253\n",
      "Loss (train) 1600: 0.014188489344787109\n",
      "Loss (test) 1600: 0.014488346701347419\n",
      "Loss (train) 1700: 0.0166966700064255\n",
      "Loss (test) 1700: 0.014168365591603177\n",
      "Loss (train) 1800: 0.026909413902510324\n",
      "Loss (test) 1800: 0.01663668371004879\n",
      "Loss (train) 1900: 0.01977887797678786\n",
      "Loss (test) 1900: 0.023495059222438254\n",
      "Loss (train) 2000: 0.016651542858178367\n",
      "Loss (test) 2000: 0.018151265346857876\n",
      "Loss (train) 2100: 0.015851929484664372\n",
      "Loss (test) 2100: 0.013341439473620733\n",
      "Loss (train) 2200: 0.009904540901633061\n",
      "Loss (test) 2200: 0.016995443729423167\n",
      "Loss (train) 2300: 0.013457481207524342\n",
      "Loss (test) 2300: 0.01548575048237902\n",
      "Loss (train) 2400: 0.015934102484095134\n",
      "Loss (test) 2400: 0.016477018766493746\n",
      "Loss (train) 2500: 0.01260842024598858\n",
      "Loss (test) 2500: 0.010867448252566874\n",
      "Loss (train) 2600: 0.0072667366804763135\n",
      "Loss (test) 2600: 0.01810755214087137\n",
      "Loss (train) 2700: 0.010272589827719909\n",
      "Loss (test) 2700: 0.01217196862506741\n",
      "Loss (train) 2800: 0.014272753416355562\n",
      "Loss (test) 2800: 0.014952942914816829\n",
      "Loss (train) 2900: 0.01745335039155403\n",
      "Loss (test) 2900: 0.014479875072439257\n",
      "Loss (train) 3000: 0.01167833306841192\n",
      "Loss (test) 3000: 0.014734836705186626\n",
      "Loss (train) 3100: 0.01328813761592224\n",
      "Loss (test) 3100: 0.014685221571619661\n",
      "Loss (train) 3200: 0.010679054888904279\n",
      "Loss (test) 3200: 0.016363069325128366\n",
      "Loss (train) 3300: 0.007668247081222007\n",
      "Loss (test) 3300: 0.00868085580950257\n",
      "Loss (train) 3400: 0.01079850858135923\n",
      "Loss (test) 3400: 0.015468689079821548\n",
      "Loss (train) 3500: 0.013179454188731898\n",
      "Loss (test) 3500: 0.009783157456916125\n",
      "Loss (train) 3600: 0.00915998928195132\n",
      "Loss (test) 3600: 0.016062080383877877\n",
      "Loss (train) 3700: 0.00686074617342742\n",
      "Loss (test) 3700: 0.01939991997528408\n",
      "Loss (train) 3800: 0.014398102197945493\n",
      "Loss (test) 3800: 0.009428678567941341\n",
      "Loss (train) 3900: 0.010479277956021951\n",
      "Loss (test) 3900: 0.016091655551564766\n",
      "Loss (train) 4000: 0.0075411599197882685\n",
      "Loss (test) 4000: 0.009166904373112017\n",
      "Loss (train) 4100: 0.01614550927871071\n",
      "Loss (test) 4100: 0.006604390058767771\n",
      "Loss (train) 4200: 0.010669545370917338\n",
      "Loss (test) 4200: 0.008174575292194645\n",
      "Loss (train) 4300: 0.012282318502789977\n",
      "Loss (test) 4300: 0.006831280878740117\n",
      "Loss (train) 4400: 0.0134463107542753\n",
      "Loss (test) 4400: 0.012605669945005\n",
      "Loss (train) 4500: 0.01090168292745582\n",
      "Loss (test) 4500: 0.009793902538569023\n",
      "Loss (train) 4600: 0.0071018263395366465\n",
      "Loss (test) 4600: 0.008783054862705102\n",
      "Loss (train) 4700: 0.0072885766494048595\n",
      "Loss (test) 4700: 0.01015552669881312\n",
      "Loss (train) 4800: 0.010265521748669917\n",
      "Loss (test) 4800: 0.010961591299193451\n",
      "Loss (train) 4900: 0.01291029372427027\n",
      "Loss (test) 4900: 0.010520713768181388\n",
      "Loss (train) 5000: 0.009442202706840448\n",
      "Loss (test) 5000: 0.009232021748803639\n",
      "Loss (train) 5100: 0.009814189714858397\n",
      "Loss (test) 5100: 0.009505664771074878\n",
      "Loss (train) 5200: 0.0070117033004431705\n",
      "Loss (test) 5200: 0.005686758999097347\n",
      "Loss (train) 5300: 0.010263497004009008\n",
      "Loss (test) 5300: 0.006604230347898449\n",
      "Loss (train) 5400: 0.013410536035797688\n",
      "Loss (test) 5400: 0.013069309279217654\n",
      "Loss (train) 5500: 0.006874243091098448\n",
      "Loss (test) 5500: 0.014055023841734644\n",
      "Loss (train) 5600: 0.013430477490855408\n",
      "Loss (test) 5600: 0.014059971048905075\n",
      "Loss (train) 5700: 0.00815756710395817\n",
      "Loss (test) 5700: 0.0074252614064843955\n",
      "Loss (train) 5800: 0.005252733717642375\n",
      "Loss (test) 5800: 0.009017621992250431\n",
      "Loss (train) 5900: 0.014644952321227731\n",
      "Loss (test) 5900: 0.009671768347946575\n",
      "Loss (train) 6000: 0.009781704369134418\n",
      "Loss (test) 6000: 0.017002837283336382\n",
      "Loss (train) 6100: 0.013232468724279776\n",
      "Loss (test) 6100: 0.008951662260067866\n",
      "Loss (train) 6200: 0.006997796422617944\n",
      "Loss (test) 6200: 0.008132903755188497\n",
      "Loss (train) 6300: 0.01309839609246417\n",
      "Loss (test) 6300: 0.008220965976232099\n",
      "Loss (train) 6400: 0.010487586736117396\n",
      "Loss (test) 6400: 0.006432792683070506\n",
      "Loss (train) 6500: 0.013111201033445749\n",
      "Loss (test) 6500: 0.00918421963531201\n",
      "Loss (train) 6600: 0.007364615919907934\n",
      "Loss (test) 6600: 0.01068133515501115\n",
      "Loss (train) 6700: 0.011287834142034985\n",
      "Loss (test) 6700: 0.004998091613146813\n",
      "Loss (train) 6800: 0.01004420802532082\n",
      "Loss (test) 6800: 0.008347091663954352\n",
      "Loss (train) 6900: 0.01391609228035872\n",
      "Loss (test) 6900: 0.006652223287708571\n",
      "Loss (train) 7000: 0.005523081633224374\n",
      "Loss (test) 7000: 0.007974269469664258\n",
      "Loss (train) 7100: 0.007228162891618944\n",
      "Loss (test) 7100: 0.006424448881181694\n",
      "Loss (train) 7200: 0.010763088961271105\n",
      "Loss (test) 7200: 0.009225645894020673\n",
      "Loss (train) 7300: 0.007495568751423071\n",
      "Loss (test) 7300: 0.014159697637051948\n",
      "Loss (train) 7400: 0.00802575082287534\n",
      "Loss (test) 7400: 0.010394269177723618\n",
      "Loss (train) 7500: 0.009491139329316414\n",
      "Loss (test) 7500: 0.007521795296883433\n",
      "Loss (train) 7600: 0.011348726442880801\n",
      "Loss (test) 7600: 0.00843737252114265\n",
      "Loss (train) 7700: 0.005340217031219364\n",
      "Loss (test) 7700: 0.008768478123405\n",
      "Loss (train) 7800: 0.012833239060678158\n",
      "Loss (test) 7800: 0.007142628329137371\n",
      "Loss (train) 7900: 0.007016180313108283\n",
      "Loss (test) 7900: 0.006971956577496203\n",
      "Loss (train) 8000: 0.009743474165316538\n",
      "Loss (test) 8000: 0.0065711311526376985\n",
      "Loss (train) 8100: 0.01164067180973418\n",
      "Loss (test) 8100: 0.0072862410385864315\n",
      "Loss (train) 8200: 0.011818778010674331\n",
      "Loss (test) 8200: 0.011447814408777547\n",
      "Loss (train) 8300: 0.009996693252417558\n",
      "Loss (test) 8300: 0.010516154663029222\n",
      "Loss (train) 8400: 0.003536954190409974\n",
      "Loss (test) 8400: 0.011728718626862469\n",
      "Loss (train) 8500: 0.00885417498229427\n",
      "Loss (test) 8500: 0.006071315076478005\n",
      "Loss (train) 8600: 0.00927906514059516\n",
      "Loss (test) 8600: 0.01189114242248837\n",
      "Loss (train) 8700: 0.013702872582530086\n",
      "Loss (test) 8700: 0.008761099553949228\n",
      "Loss (train) 8800: 0.008673569134841132\n",
      "Loss (test) 8800: 0.009777518866043883\n",
      "Loss (train) 8900: 0.010728110202184196\n",
      "Loss (test) 8900: 0.005406284029769467\n",
      "Loss (train) 9000: 0.004942658145755507\n",
      "Loss (test) 9000: 0.010163347316834341\n",
      "Loss (train) 9100: 0.00867550372453122\n",
      "Loss (test) 9100: 0.013448207713243588\n",
      "Loss (train) 9200: 0.013289599811540084\n",
      "Loss (test) 9200: 0.008043320226532398\n",
      "Loss (train) 9300: 0.007791169628187983\n",
      "Loss (test) 9300: 0.010402621922443305\n",
      "Loss (train) 9400: 0.01582641636462546\n",
      "Loss (test) 9400: 0.007578498960435272\n",
      "Loss (train) 9500: 0.005185997253922951\n",
      "Loss (test) 9500: 0.006638281053148397\n",
      "Loss (train) 9600: 0.003913087574881844\n",
      "Loss (test) 9600: 0.007374943045692854\n",
      "Loss (train) 9700: 0.008230301660970756\n",
      "Loss (test) 9700: 0.01180011578946486\n",
      "Loss (train) 9800: 0.004703697995022377\n",
      "Loss (test) 9800: 0.011054123484997564\n",
      "Loss (train) 9900: 0.007785974298793254\n",
      "Loss (test) 9900: 0.008698791022084523\n",
      "Loss (train) 10000: 0.010565483657077561\n",
      "Loss (test) 10000: 0.010437673310477142\n"
     ]
    },
    {
     "data": {
      "text/plain": [
       "<Figure size 640x480 with 1 Axes>"
      ],
      "image/png": "[encoded data removed]"
     },
     "metadata": {},
     "output_type": "display_data"
    },
    {
     "data": {
      "text/plain": [
       "<Figure size 640x480 with 2 Axes>"
      ],
      "image/png": "[encoded data removed]"
     },
     "metadata": {},
     "output_type": "display_data"
    }
   ],
   "execution_count": 215
  },
  {
   "metadata": {},
   "cell_type": "markdown",
   "source": "## Plotting weights from first layer (just for fun and maybe see some insights)",
   "id": "90044b893578b32e"
  },
  {
   "metadata": {
    "ExecuteTime": {
     "end_time": "2024-10-10T20:59:53.985246Z",
     "start_time": "2024-10-10T20:59:53.616003Z"
    }
   },
   "cell_type": "code",
   "source": [
    "for i in range(10):\n",
    "    first_layer_weights = nn.layers[0].weights[:,i].reshape((28, 28)) \n",
    "    if cuda:\n",
    "        first_layer_weights = first_layer_weights.get()\n",
    "    plot_image(first_layer_weights)"
   ],
   "id": "deca4f8b5982f43c",
   "outputs": [
    {
     "data": {
      "text/plain": [
       "<Figure size 640x480 with 1 Axes>"
      ],
      "image/png": "[encoded data removed]"
     },
     "metadata": {},
     "output_type": "display_data"
    },
    {
     "data": {
      "text/plain": [
       "<Figure size 640x480 with 1 Axes>"
      ],
      "image/png": "[encoded data removed]"
     },
     "metadata": {},
     "output_type": "display_data"
    },
    {
     "data": {
      "text/plain": [
       "<Figure size 640x480 with 1 Axes>"
      ],
      "image/png": "[encoded data removed]"
     },
     "metadata": {},
     "output_type": "display_data"
    },
    {
     "data": {
      "text/plain": [
       "<Figure size 640x480 with 1 Axes>"
      ],
      "image/png": "[encoded data removed]"
     },
     "metadata": {},
     "output_type": "display_data"
    },
    {
     "data": {
      "text/plain": [
       "<Figure size 640x480 with 1 Axes>"
      ],
      "image/png": "[encoded data removed]"
     },
     "metadata": {},
     "output_type": "display_data"
    },
    {
     "data": {
      "text/plain": [
       "<Figure size 640x480 with 1 Axes>"
      ],
      "image/png": "[encoded data removed]"
     },
     "metadata": {},
     "output_type": "display_data"
    },
    {
     "data": {
      "text/plain": [
       "<Figure size 640x480 with 1 Axes>"
      ],
      "image/png": "[encoded data removed]"
     },
     "metadata": {},
     "output_type": "display_data"
    },
    {
     "data": {
      "text/plain": [
       "<Figure size 640x480 with 1 Axes>"
      ],
      "image/png": "[encoded data removed]"
     },
     "metadata": {},
     "output_type": "display_data"
    },
    {
     "data": {
      "text/plain": [
       "<Figure size 640x480 with 1 Axes>"
      ],
      "image/png": "[encoded data removed]"
     },
     "metadata": {},
     "output_type": "display_data"
    },
    {
     "data": {
      "text/plain": [
       "<Figure size 640x480 with 1 Axes>"
      ],
      "image/png": "[encoded data removed]"
     },
     "metadata": {},
     "output_type": "display_data"
    }
   ],
   "execution_count": 213
  },
  {
   "metadata": {},
   "cell_type": "code",
   "outputs": [],
   "execution_count": null,
   "source": "",
   "id": "e6f35e05efd3b886"
  }
 ],
 "metadata": {
  "kernelspec": {
   "display_name": "Python 3",
   "language": "python",
   "name": "python3"
  },
  "language_info": {
   "codemirror_mode": {
    "name": "ipython",
    "version": 2
   },
   "file_extension": ".py",
   "mimetype": "text/x-python",
   "name": "python",
   "nbconvert_exporter": "python",
   "pygments_lexer": "ipython2",
   "version": "2.7.6"
  }
 },
 "nbformat": 4,
 "nbformat_minor": 5
}
