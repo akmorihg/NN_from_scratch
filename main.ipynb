{
 "cells": [
  {
   "cell_type": "code",
   "id": "initial_id",
   "metadata": {
    "collapsed": true,
    "ExecuteTime": {
     "end_time": "2024-11-03T21:56:33.533026Z",
     "start_time": "2024-11-03T21:56:32.104184Z"
    }
   },
   "source": [
    "import os\n",
    "import struct\n",
    "import pickle\n",
    "import shutil\n",
    "from typing import List\n",
    "\n",
    "import numpy as np\n",
    "# Okay, this is for using GPU POWEEEER\n",
    "import cupy as cp\n",
    "import matplotlib.pyplot as plt\n",
    "\n",
    "from tqdm.notebook import tqdm\n",
    "from sklearn.metrics import confusion_matrix, ConfusionMatrixDisplay\n",
    "\n",
    "print(cp.cuda.runtime.getDeviceCount())"
   ],
   "outputs": [
    {
     "name": "stdout",
     "output_type": "stream",
     "text": [
      "1\n"
     ]
    }
   ],
   "execution_count": 1
  },
  {
   "metadata": {},
   "cell_type": "markdown",
   "source": "# Reading Data",
   "id": "442138ec72aa04f7"
  },
  {
   "metadata": {
    "ExecuteTime": {
     "end_time": "2024-11-03T21:56:34.644149Z",
     "start_time": "2024-11-03T21:56:34.641301Z"
    }
   },
   "cell_type": "code",
   "source": [
    "def load_images(path: str):\n",
    "    # Images in 784x1 format\n",
    "    images = []\n",
    "    \n",
    "    with open(path, mode='rb') as f:\n",
    "        # Read header values\n",
    "        magic_number, n, rows, cols = struct.unpack('>IIII', f.read(16))\n",
    "        \n",
    "        for _ in range(n):\n",
    "            # Read and unpack image (which has 28x28 bytes)\n",
    "            image = list(struct.unpack('>' + 'B' * (rows * cols), f.read(rows * cols)))\n",
    "            images.append(image)\n",
    "    \n",
    "    return np.array(images)"
   ],
   "id": "bd7dd7e6d54826a5",
   "outputs": [],
   "execution_count": 2
  },
  {
   "metadata": {
    "ExecuteTime": {
     "end_time": "2024-11-03T21:56:35.061480Z",
     "start_time": "2024-11-03T21:56:35.059036Z"
    }
   },
   "cell_type": "code",
   "source": [
    "def load_labels(path: str):\n",
    "    with open(path, mode='rb') as f:\n",
    "        # Read header values\n",
    "        magic_number, n = struct.unpack('>II', f.read(8))\n",
    "        \n",
    "        # Read and return labels\n",
    "        return np.array(struct.unpack('>' + 'B' * n, f.read(n)))"
   ],
   "id": "b4579a303621b220",
   "outputs": [],
   "execution_count": 3
  },
  {
   "metadata": {
    "ExecuteTime": {
     "end_time": "2024-11-03T21:56:35.447783Z",
     "start_time": "2024-11-03T21:56:35.445295Z"
    }
   },
   "cell_type": "code",
   "source": [
    "def save_file(path, data):\n",
    "    with open(path, 'wb') as f:\n",
    "        f.write(data)"
   ],
   "id": "d1b65c067f2b5e55",
   "outputs": [],
   "execution_count": 4
  },
  {
   "metadata": {
    "ExecuteTime": {
     "end_time": "2024-11-03T21:56:37.825017Z",
     "start_time": "2024-11-03T21:56:35.857137Z"
    }
   },
   "cell_type": "code",
   "source": [
    "train_images_path = \"train-images.idx3-ubyte\"\n",
    "train_labels_path = \"train-labels.idx1-ubyte\"\n",
    "test_images_path = \"t10k-images.idx3-ubyte\"\n",
    "test_labels_path = \"t10k-labels.idx1-ubyte\"\n",
    "\n",
    "train_images = load_images(train_images_path)\n",
    "train_labels = load_labels(train_labels_path)\n",
    "test_images = load_images(test_images_path)\n",
    "test_labels = load_labels(test_labels_path)"
   ],
   "id": "6faca7926a7e0471",
   "outputs": [],
   "execution_count": 5
  },
  {
   "metadata": {},
   "cell_type": "markdown",
   "source": "## Whitening (Z-Scoring) data",
   "id": "4e69b32c20cf7186"
  },
  {
   "metadata": {
    "ExecuteTime": {
     "end_time": "2024-11-03T21:56:38.612974Z",
     "start_time": "2024-11-03T21:56:38.609952Z"
    }
   },
   "cell_type": "code",
   "source": [
    "def z_score(data):\n",
    "    mean = np.mean(data)\n",
    "    std = np.std(data)\n",
    "    return mean, std, (data - mean) / std"
   ],
   "id": "78e1717ed30db701",
   "outputs": [],
   "execution_count": 6
  },
  {
   "metadata": {
    "ExecuteTime": {
     "end_time": "2024-11-03T21:56:39.307553Z",
     "start_time": "2024-11-03T21:56:39.003199Z"
    }
   },
   "cell_type": "code",
   "source": "mean, std, train_images = z_score(train_images)",
   "id": "fecae37194690b0e",
   "outputs": [],
   "execution_count": 7
  },
  {
   "metadata": {
    "ExecuteTime": {
     "end_time": "2024-11-03T21:56:39.402337Z",
     "start_time": "2024-11-03T21:56:39.378804Z"
    }
   },
   "cell_type": "code",
   "source": "test_images = (test_images - mean) / std",
   "id": "d9fc1e3570477174",
   "outputs": [],
   "execution_count": 8
  },
  {
   "metadata": {
    "ExecuteTime": {
     "end_time": "2024-11-03T21:56:40.167069Z",
     "start_time": "2024-11-03T21:56:39.870871Z"
    }
   },
   "cell_type": "code",
   "source": [
    "save_file(\"preprocessed_data/train_images\", train_images)\n",
    "save_file(\"preprocessed_data/test_images\", test_images)"
   ],
   "id": "18e7aa6d178f9e56",
   "outputs": [],
   "execution_count": 9
  },
  {
   "metadata": {},
   "cell_type": "markdown",
   "source": "# Re-shape and Visualization",
   "id": "c9a6dc66c1f6fedf"
  },
  {
   "metadata": {
    "ExecuteTime": {
     "end_time": "2024-11-03T21:56:41.098284Z",
     "start_time": "2024-11-03T21:56:41.096109Z"
    }
   },
   "cell_type": "code",
   "source": [
    "def reshape_matrix_to_images(matrix_images):\n",
    "    apply_function = lambda row: row.reshape((28, 28))\n",
    "    return np.apply_along_axis(apply_function, axis=1, arr=matrix_images)"
   ],
   "id": "35bd238546f13dcd",
   "outputs": [],
   "execution_count": 10
  },
  {
   "metadata": {
    "ExecuteTime": {
     "end_time": "2024-11-03T21:56:41.538901Z",
     "start_time": "2024-11-03T21:56:41.536945Z"
    }
   },
   "cell_type": "code",
   "source": [
    "def plot_image(reshaped_image, label = \"\"):\n",
    "    plt.imshow(reshaped_image, cmap=plt.get_cmap('gray'))\n",
    "    if label != \"\":\n",
    "        plt.title(f\"Label: {label}\")\n",
    "    plt.show()"
   ],
   "id": "78cb0ee208741da5",
   "outputs": [],
   "execution_count": 11
  },
  {
   "metadata": {},
   "cell_type": "markdown",
   "source": "## Checking image-label pair",
   "id": "f7e7f77bd9b7ebff"
  },
  {
   "metadata": {
    "ExecuteTime": {
     "end_time": "2024-11-03T21:56:42.774403Z",
     "start_time": "2024-11-03T21:56:42.552964Z"
    }
   },
   "cell_type": "code",
   "source": [
    "reshaped_images = reshape_matrix_to_images(train_images)\n",
    "rand_index = np.random.randint(0, len(train_images))\n",
    "plot_image(reshaped_images[rand_index], train_labels[rand_index])"
   ],
   "id": "4be6950b6a302b6e",
   "outputs": [
    {
     "data": {
      "text/plain": [
       "<Figure size 640x480 with 1 Axes>"
      ],
      "image/png": "[encoded data removed]"
     },
     "metadata": {},
     "output_type": "display_data"
    }
   ],
   "execution_count": 12
  },
  {
   "metadata": {
    "ExecuteTime": {
     "end_time": "2024-11-03T21:56:44.059494Z",
     "start_time": "2024-11-03T21:56:44.056981Z"
    }
   },
   "cell_type": "code",
   "source": [
    "def one_hot_encoding(labels):\n",
    "    one_hot_encoded_labels = []\n",
    "    for i, label in enumerate(labels):\n",
    "        one_hot_label = np.zeros(10)\n",
    "        one_hot_label[label] = 1.0\n",
    "        one_hot_encoded_labels.append(one_hot_label)\n",
    "    \n",
    "    return np.array(one_hot_encoded_labels)"
   ],
   "id": "d62d96458f5bafb0",
   "outputs": [],
   "execution_count": 13
  },
  {
   "metadata": {
    "ExecuteTime": {
     "end_time": "2024-11-03T21:56:44.485788Z",
     "start_time": "2024-11-03T21:56:44.483491Z"
    }
   },
   "cell_type": "code",
   "source": [
    "def one_hot_decoding(one_hot_encoded_labels):\n",
    "    if len(one_hot_encoded_labels.shape) == 1:\n",
    "        return np.argmax(one_hot_encoded_labels)\n",
    "    return np.argmax(one_hot_encoded_labels, axis=1)"
   ],
   "id": "2b0c7f8ae15e3674",
   "outputs": [],
   "execution_count": 14
  },
  {
   "metadata": {
    "ExecuteTime": {
     "end_time": "2024-11-03T21:56:44.928389Z",
     "start_time": "2024-11-03T21:56:44.881659Z"
    }
   },
   "cell_type": "code",
   "source": [
    "train_encoded_labels = one_hot_encoding(train_labels)\n",
    "test_encoded_labels = one_hot_encoding(test_labels)"
   ],
   "id": "8df878d6ea86c70f",
   "outputs": [],
   "execution_count": 15
  },
  {
   "metadata": {},
   "cell_type": "markdown",
   "source": "## Checking 'one_hot_encoding' and 'one_hot_decoding' functions working correct",
   "id": "6345f7c0b0317a2a"
  },
  {
   "metadata": {
    "ExecuteTime": {
     "end_time": "2024-11-03T21:56:45.935808Z",
     "start_time": "2024-11-03T21:56:45.932723Z"
    }
   },
   "cell_type": "code",
   "source": "train_encoded_labels[8:10]",
   "id": "84ba94d42bca7d67",
   "outputs": [
    {
     "data": {
      "text/plain": [
       "array([[0., 1., 0., 0., 0., 0., 0., 0., 0., 0.],\n",
       "       [0., 0., 0., 0., 1., 0., 0., 0., 0., 0.]])"
      ]
     },
     "execution_count": 16,
     "metadata": {},
     "output_type": "execute_result"
    }
   ],
   "execution_count": 16
  },
  {
   "metadata": {
    "ExecuteTime": {
     "end_time": "2024-11-03T21:56:46.415230Z",
     "start_time": "2024-11-03T21:56:46.412808Z"
    }
   },
   "cell_type": "code",
   "source": "train_labels[8:10]",
   "id": "8932d609a677299b",
   "outputs": [
    {
     "data": {
      "text/plain": [
       "array([1, 4])"
      ]
     },
     "execution_count": 17,
     "metadata": {},
     "output_type": "execute_result"
    }
   ],
   "execution_count": 17
  },
  {
   "metadata": {
    "ExecuteTime": {
     "end_time": "2024-11-03T21:56:46.971827Z",
     "start_time": "2024-11-03T21:56:46.969368Z"
    }
   },
   "cell_type": "code",
   "source": "one_hot_decoding(train_encoded_labels[8:10])",
   "id": "1133f6772e389304",
   "outputs": [
    {
     "data": {
      "text/plain": [
       "array([1, 4])"
      ]
     },
     "execution_count": 18,
     "metadata": {},
     "output_type": "execute_result"
    }
   ],
   "execution_count": 18
  },
  {
   "metadata": {},
   "cell_type": "markdown",
   "source": "# NN",
   "id": "62b043ba0cbacbaa"
  },
  {
   "metadata": {},
   "cell_type": "markdown",
   "source": "## Activation Functions",
   "id": "a2a3505480cb53df"
  },
  {
   "metadata": {
    "ExecuteTime": {
     "end_time": "2024-11-03T21:56:47.983874Z",
     "start_time": "2024-11-03T21:56:47.980506Z"
    }
   },
   "cell_type": "code",
   "source": [
    "from abc import ABC, abstractmethod\n",
    "\n",
    "\n",
    "class ActivationFunction(ABC):\n",
    "    def __init__(self, cuda=False):\n",
    "        self.cuda = cuda\n",
    "    \n",
    "    @abstractmethod\n",
    "    def forward(self, x):\n",
    "        pass\n",
    "    \n",
    "    @abstractmethod\n",
    "    def derivatives(self, x):\n",
    "        pass\n",
    "\n",
    "class Relu(ActivationFunction):\n",
    "    def forward(self, x):\n",
    "        if self.cuda:\n",
    "            return cp.maximum(0, x)\n",
    "        \n",
    "        return np.maximum(x, 0)\n",
    "    \n",
    "    def derivatives(self, x):\n",
    "        if self.cuda:\n",
    "            x = cp.asarray(x)\n",
    "        \n",
    "        return x > 0\n",
    "\n",
    "class Softmax(ActivationFunction):\n",
    "    def forward(self, x):\n",
    "        if self.cuda:\n",
    "            x = cp.asarray(x)\n",
    "            exps = cp.exp(x - cp.max(x))\n",
    "            return exps / cp.sum(exps)\n",
    "            \n",
    "        exps = np.exp(x - np.max(x))\n",
    "        return exps / np.sum(exps)\n",
    "    \n",
    "    def derivatives(self, x):\n",
    "        # This is not implemented because we use cross-categorical loss and we skip this step\n",
    "        return 1"
   ],
   "id": "671cc4dd692f7e9f",
   "outputs": [],
   "execution_count": 19
  },
  {
   "metadata": {},
   "cell_type": "markdown",
   "source": "## Weight Initializers",
   "id": "c3a3df6e772139ce"
  },
  {
   "metadata": {
    "ExecuteTime": {
     "end_time": "2024-11-03T21:56:48.708182Z",
     "start_time": "2024-11-03T21:56:48.703947Z"
    }
   },
   "cell_type": "code",
   "source": [
    "class WeightInitializer(ABC):\n",
    "    @abstractmethod\n",
    "    def init(self, n_in, n_out, cuda=False):\n",
    "        pass\n",
    "    \n",
    "class NormalInitializer(WeightInitializer):\n",
    "    def init(self, n_in, n_out, cuda=False):\n",
    "        if cuda:\n",
    "            return cp.random.standard_normal(size=(n_in, n_out))\n",
    "        \n",
    "        return np.random.standard_normal(size=(n_in, n_out))\n",
    "    \n",
    "class XavierInitializer(WeightInitializer):\n",
    "    def init(self, n_in, n_out, cuda=False):\n",
    "        if cuda:\n",
    "            return cp.random.normal(0, 1/n_in, size=(n_in, n_out))\n",
    "        \n",
    "        return np.random.normal(0, 1/n_in, size=(n_in, n_out))\n",
    "\n",
    "# Weights initializer from given research paper and yes, it works SUPER\n",
    "class PaperInitializer(WeightInitializer):\n",
    "    def init(self, n_in, n_out, cuda=False):\n",
    "        if cuda:\n",
    "            return cp.random.normal(0, np.sqrt(2/n_in), size=(n_in, n_out))\n",
    "        \n",
    "        return np.random.normal(0, np.sqrt(2/n_in), size=(n_in, n_out))\n",
    "    \n",
    "class ZeroInitializer(WeightInitializer):\n",
    "    def init(self, n_in, n_out, cuda=False):\n",
    "        if cuda:\n",
    "            return cp.zeros((n_in, n_out))\n",
    "        return np.zeros((n_in, n_out))\n",
    "    \n",
    "class VeryLargeInitializer(WeightInitializer):\n",
    "    def init(self, n_in, n_out, cuda=False):\n",
    "        if cuda:\n",
    "            return cp.random.normal(1000, 500, size=(n_in, n_out))\n",
    "        return np.random.normal(1000, 500, size=(n_in, n_out))"
   ],
   "id": "fd7ba808c64764d8",
   "outputs": [],
   "execution_count": 20
  },
  {
   "metadata": {},
   "cell_type": "markdown",
   "source": "## Optimizers",
   "id": "b345c65713d7d968"
  },
  {
   "metadata": {
    "ExecuteTime": {
     "end_time": "2024-11-03T21:56:49.103976Z",
     "start_time": "2024-11-03T21:56:49.098874Z"
    }
   },
   "cell_type": "code",
   "source": [
    "class Optimizer(ABC):\n",
    "    def __init__(self, cuda=False):\n",
    "        self.weights = None\n",
    "        self.bias = None\n",
    "        self.cuda = cuda\n",
    "    \n",
    "    def set_weights_and_bias(self, weights, bias):\n",
    "        self.weights = weights\n",
    "        self.bias = bias\n",
    "        \n",
    "    def convert_to_cupy_array(self, dW, db):\n",
    "        return cp.asarray(dW), cp.asarray(db)\n",
    "    \n",
    "    @abstractmethod\n",
    "    def optimize(self, hyperparams, dW, db):\n",
    "        pass\n",
    "\n",
    "class SGD(Optimizer):\n",
    "    def __init__(self, cuda=False):\n",
    "        super().__init__(cuda)\n",
    "    \n",
    "    def optimize(self, hyperparams, dW, db):\n",
    "        lr = hyperparams['learning_rate']\n",
    "        \n",
    "        if self.cuda:\n",
    "            dW, db = self.convert_to_cupy_array(dW, db)\n",
    "        \n",
    "        self.weights -= lr * dW\n",
    "        self.bias -= lr * db\n",
    "\n",
    "class Momentum(Optimizer):\n",
    "    def __init__(self, cuda=False):\n",
    "        super().__init__(cuda)\n",
    "        self.v = 0\n",
    "    \n",
    "    def optimize(self, hyperparams, dW, db):\n",
    "        lr = hyperparams['learning_rate']\n",
    "        beta = hyperparams[\"beta1\"]\n",
    "        \n",
    "        if self.cuda:\n",
    "            dW, db = self.convert_to_cupy_array(dW, db)\n",
    "        \n",
    "        self.v = beta * self.v + (1 - beta) * dW\n",
    "        \n",
    "        self.weights -= lr * self.v\n",
    "        self.bias -= lr * db\n",
    "        \n",
    "class RMSProp(Optimizer):\n",
    "    def __init__(self, cuda=False):\n",
    "        super().__init__(cuda)\n",
    "        self.s = 0\n",
    "    \n",
    "    def optimize(self, hyperparams, dW, db):\n",
    "        lr = hyperparams['learning_rate']\n",
    "        beta2 = hyperparams['beta2']\n",
    "        \n",
    "        if self.cuda:\n",
    "            dW, db = self.convert_to_cupy_array(dW, db)\n",
    "        \n",
    "        dW = dW ** 2\n",
    "        \n",
    "        self.s = beta2 * self.s + (1 - beta2) * dW\n",
    "        \n",
    "        self.weights -= lr * dW / np.sqrt(self.s + 1e-10)\n",
    "        self.bias -= lr * db\n",
    "        \n",
    "class Adam(Optimizer):\n",
    "    def __init__(self, cuda=False):\n",
    "        super().__init__(cuda)\n",
    "        self.v = 0\n",
    "        self.s = 0\n",
    "        \n",
    "    def optimize(self, hyperparams, dW, db):\n",
    "        lr = hyperparams['learning_rate']\n",
    "        beta1 = hyperparams['beta1']\n",
    "        beta2 = hyperparams['beta2']\n",
    "        epochs = hyperparams['epochs']\n",
    "        \n",
    "        if self.cuda:\n",
    "            dW, db = self.convert_to_cupy_array(dW, db)\n",
    "        \n",
    "        self.v = beta1 * self.v + (1 - beta1) * dW\n",
    "        self.s = beta2 * self.s + (1 - beta2) * dW**2\n",
    "        \n",
    "        self.weights -= lr * self.v / np.sqrt(self.s + 1e-10)\n",
    "        self.bias -= lr * db\n",
    "        \n",
    "        self.v = self.v / (1.0 - np.pow(beta1, epochs))\n",
    "        self.s = self.s / (1.0 - np.pow(beta2, epochs))"
   ],
   "id": "fe38b907f4883201",
   "outputs": [],
   "execution_count": 21
  },
  {
   "metadata": {},
   "cell_type": "markdown",
   "source": "## Loss Functions",
   "id": "88ca070c7643c175"
  },
  {
   "metadata": {
    "ExecuteTime": {
     "end_time": "2024-11-03T21:56:49.547061Z",
     "start_time": "2024-11-03T21:56:49.543441Z"
    }
   },
   "cell_type": "code",
   "source": [
    "class LossFunction(ABC):\n",
    "    def __init__(self, cuda=False):\n",
    "        self.cuda = cuda\n",
    "    \n",
    "    @abstractmethod\n",
    "    def loss(self, y_pred, y_true):\n",
    "        pass\n",
    "    \n",
    "    @abstractmethod\n",
    "    def gradient(self, y_pred, y_true):\n",
    "        pass\n",
    "\n",
    "class MSE(LossFunction):\n",
    "    def __init__(self, cuda=False):\n",
    "        super().__init__(cuda)\n",
    "    \n",
    "    def loss(self, y_pred, y_true):\n",
    "        if self.cuda:\n",
    "            return cp.mean((y_pred - y_true) ** 2)\n",
    "        \n",
    "        return np.mean((y_pred - y_true) ** 2)\n",
    "    \n",
    "    def gradient(self, y_pred, y_true):\n",
    "        return (y_pred - y_true) * 2\n",
    "    \n",
    "class CategoricalCrossEntropy(LossFunction):\n",
    "    def __init__(self, cuda=False):\n",
    "        super().__init__(cuda)\n",
    "    \n",
    "    def loss(self, y_pred, y_true):\n",
    "        if self.cuda:\n",
    "            return -cp.sum(y_pred * cp.log(y_pred + 1e-8))\n",
    "        \n",
    "        return -np.sum(y_pred * np.log(y_pred + 1e-8))\n",
    "    \n",
    "    def gradient(self, y_pred, y_true):\n",
    "        # This gradient is only with Softmax\n",
    "        return y_pred - y_true"
   ],
   "id": "988e8f124127faa8",
   "outputs": [],
   "execution_count": 22
  },
  {
   "metadata": {
    "ExecuteTime": {
     "end_time": "2024-11-03T21:56:49.775056Z",
     "start_time": "2024-11-03T21:56:49.770774Z"
    }
   },
   "cell_type": "code",
   "source": [
    "from abc import ABC, abstractmethod\n",
    "\n",
    "\n",
    "class Layer(ABC):\n",
    "    def __init__(self,n_in, n_out, is_output = False,\n",
    "                 weight_init: WeightInitializer = NormalInitializer(),\n",
    "                 activation: str = \"relu\",\n",
    "                 optimizer: str = \"momentum\",\n",
    "                 cuda: bool = False,\n",
    "                 need_flatten=False):\n",
    "        self.n_in = n_in\n",
    "        self.n_out = n_out\n",
    "        self.is_output = is_output\n",
    "        self.weight_init = weight_init\n",
    "        self.activation = activation\n",
    "        self.optimizer = optimizer\n",
    "        self.cuda = cuda\n",
    "        self.need_flatten = need_flatten\n",
    "        \n",
    "        self.A_prev = None\n",
    "        self.Z = None\n",
    "        \n",
    "        self.Z_mean = None\n",
    "        self.Z_std = None\n",
    "        \n",
    "        self.v = 0\n",
    "    \n",
    "    def _get_module(self):\n",
    "        if self.cuda:\n",
    "            return cp\n",
    "        return np\n",
    "    \n",
    "    @abstractmethod\n",
    "    def forward(self, A_prev, is_training = True):\n",
    "        pass\n",
    "    \n",
    "    @abstractmethod\n",
    "    def backprop(self, dZ_prev, m, is_batch_mode=False):\n",
    "        pass\n",
    "    \n",
    "    @abstractmethod\n",
    "    def update(self, hyperparams, dW, db):\n",
    "        pass"
   ],
   "id": "c47ac1f937e9cb82",
   "outputs": [],
   "execution_count": 23
  },
  {
   "metadata": {
    "ExecuteTime": {
     "end_time": "2024-11-03T21:56:50.005405Z",
     "start_time": "2024-11-03T21:56:50.000629Z"
    }
   },
   "cell_type": "code",
   "source": [
    "class DenseLayer(Layer):\n",
    "    def __init__(self, n_in, n_out, is_output = False,\n",
    "                 weight_init: WeightInitializer = PaperInitializer(),\n",
    "                 activation: str = \"relu\",\n",
    "                 optimizer = \"momentum\",\n",
    "                 cuda=False,\n",
    "                 need_flatten=False):\n",
    "        super().__init__(n_in, n_out, is_output, weight_init, activation, optimizer, cuda, need_flatten)\n",
    "        \n",
    "        self.activation = self.activation.lower()\n",
    "        if activation == \"relu\":\n",
    "            self.activation = Relu(self.cuda)\n",
    "        elif activation == \"softmax\":\n",
    "            self.activation = Softmax(self.cuda)\n",
    "        \n",
    "        self.optimizer = self.optimizer.lower()\n",
    "        if optimizer == \"sgd\":\n",
    "            self.optimizer = SGD(self.cuda)\n",
    "        elif optimizer == \"momentum\":\n",
    "            self.optimizer = Momentum(self.cuda)\n",
    "        elif optimizer == \"rmsprop\":\n",
    "            self.optimizer = RMSProp(self.cuda)\n",
    "        elif optimizer == \"adam\":\n",
    "            self.optimizer = Adam(self.cuda)\n",
    "        \n",
    "        self.weights = self.weight_init.init(n_in, n_out, self.cuda)\n",
    "        \n",
    "        if self.cuda:\n",
    "            self.bias = cp.zeros((1, n_out))\n",
    "        else:\n",
    "            self.bias = np.zeros((1, n_out))\n",
    "        \n",
    "        self.optimizer.set_weights_and_bias(self.weights, self.bias)\n",
    "    \n",
    "    def forward(self, A_prev, is_training = True):\n",
    "        if self.need_flatten:\n",
    "            A_prev = A_prev.flatten()\n",
    "            A_prev = A_prev.reshape((1, A_prev.shape[0]))\n",
    "        self.A_prev = A_prev\n",
    "        \n",
    "        module = self._get_module()\n",
    "        \n",
    "        self.Z = module.dot(A_prev, self.weights) + self.bias\n",
    "        \n",
    "        if is_training and self.Z.shape[0] != 1:\n",
    "            self.Z_mean = module.mean(self.Z, axis = 0)\n",
    "            self.Z_std = module.std(self.Z, axis = 0)\n",
    "\n",
    "        if self.Z_mean is not None and self.Z_std is not None:    \n",
    "            self.Z = (self.Z - self.Z_mean) / self.Z_std\n",
    "            \n",
    "        return self.activation.forward(self.Z)\n",
    "\n",
    "    def backprop(self, dZ_prev, m, is_batch_mode=False):\n",
    "        dZ = dZ_prev * self.activation.derivatives(self.Z)\n",
    "        \n",
    "        module = self._get_module()\n",
    "        \n",
    "        if is_batch_mode:\n",
    "            dW = 0\n",
    "            dZ_next = []\n",
    "            for i in range(dZ_prev.shape[0]):\n",
    "                dW += 1/m * module.dot(self.A_prev[:,i], dZ[i,:])\n",
    "                dZ_next.append(module.dot(dZ[i,:], self.weights.T))\n",
    "            \n",
    "            dW /= dZ_prev.shape[0]\n",
    "            dZ_next = module.vstack(tuple(dZ_next))\n",
    "        else:\n",
    "            dW = 1/m * module.dot(self.A_prev.T, dZ)\n",
    "            dZ_next = module.dot(dZ, self.weights.T)\n",
    "        \n",
    "        db = 1/m * module.sum(dZ, axis=0, keepdims=True) / dZ_prev.shape[0]\n",
    "        \n",
    "        return dZ_next, dW, db\n",
    "    \n",
    "    def update(self, hyperparams, dW, db):\n",
    "        self.optimizer.optimize(hyperparams, dW, db)"
   ],
   "id": "a635f55e1dd09252",
   "outputs": [],
   "execution_count": 24
  },
  {
   "metadata": {
    "ExecuteTime": {
     "end_time": "2024-11-03T21:56:50.277955Z",
     "start_time": "2024-11-03T21:56:50.273711Z"
    }
   },
   "cell_type": "code",
   "source": [
    "class CNN(Layer):\n",
    "    def __init__(self, n_in, n_out, n_filters, is_output = False,\n",
    "                 weight_init: WeightInitializer = NormalInitializer(),\n",
    "                 activation: str = \"relu\",\n",
    "                 optimizer = \"momentum\",\n",
    "                 cuda=False):\n",
    "        super().__init__(n_in, n_out, is_output, weight_init, activation, optimizer, cuda)\n",
    "        \n",
    "        self.n_filters = n_filters\n",
    "        self.filter_row_size = n_in[0] - n_out[0] + 1\n",
    "        self.filter_col_size = n_in[1] - n_out[1] + 1\n",
    "        \n",
    "        if self.cuda:\n",
    "            self.weights = cp.random.randn(self.n_filters, self.filter_row_size, self.filter_col_size) / 9\n",
    "        else:\n",
    "            self.weights = np.random.randn(self.n_filters, self.filter_row_size, self.filter_col_size) / 9\n",
    "        \n",
    "    def _get_segment(self, input):\n",
    "        for i in range(self.n_out[0]):\n",
    "            for j in range(self.n_out[1]):\n",
    "                segment = input[i:(i + self.filter_row_size), j:(j + self.filter_row_size)]\n",
    "                yield segment, i, j\n",
    "    \n",
    "    def forward(self, A_prev, is_training = True):\n",
    "        if A_prev.shape != self.n_in:\n",
    "            A_prev = A_prev.reshape(self.n_in)\n",
    "        self.A_prev = A_prev\n",
    "            \n",
    "        module = self._get_module()\n",
    "        \n",
    "        output = module.zeros((self.n_out[0], self.n_out[1], self.n_filters))\n",
    "        for segment, i, j in self._get_segment(A_prev):\n",
    "            output[i, j] = module.sum(segment * self.weights, axis=(1, 2))\n",
    "        \n",
    "        return output\n",
    "    \n",
    "    def backprop(self, dZ_prev, m, is_batch_mode=False):\n",
    "        module = self._get_module()\n",
    "        \n",
    "        dW = module.zeros(self.weights.shape)\n",
    "        for segment, i, j in self._get_segment(self.A_prev):\n",
    "            for _filter in range(self.n_filters):\n",
    "                dW[_filter] += dZ_prev[i, j, _filter] * segment\n",
    "        \n",
    "        return None, dW, None\n",
    "    \n",
    "    def update(self, hyperparams, dW, db):\n",
    "        learning_rate = hyperparams['learning_rate']\n",
    "        self.weights -= learning_rate * dW"
   ],
   "id": "8749c86d6dcc6bae",
   "outputs": [],
   "execution_count": 25
  },
  {
   "metadata": {
    "ExecuteTime": {
     "end_time": "2024-11-03T21:56:50.627655Z",
     "start_time": "2024-11-03T21:56:50.623356Z"
    }
   },
   "cell_type": "code",
   "source": [
    "class MaxPoolLayer(Layer):\n",
    "    def __init__(self, n_in, n_out, n_filters, is_output = False,\n",
    "                 optimizer = \"momentum\",\n",
    "                 cuda=False):\n",
    "        super().__init__(n_in, n_out, is_output, None, \"\", optimizer, cuda)\n",
    "        \n",
    "        self.n_filters = n_filters\n",
    "        self.factor = n_in[0] // n_out[0]\n",
    "    \n",
    "    def _get_segment(self, input):\n",
    "        for i in range(self.n_out[0]):\n",
    "            for j in range(self.n_out[1]):\n",
    "                _i = i * self.factor\n",
    "                _j = j * self.factor\n",
    "                segment = input[_i:(_i + self.factor), _j:(_j + self.factor)]\n",
    "                yield segment, i, j\n",
    "    \n",
    "    def forward(self, A_prev, is_training = True):\n",
    "        self.A_prev = A_prev\n",
    "        \n",
    "        module = self._get_module()\n",
    "        \n",
    "        output = module.zeros((self.n_out[0], self.n_out[1], self.n_filters))\n",
    "        for segment, i, j in self._get_segment(A_prev):\n",
    "            output[i, j] = module.amax(segment, axis=(0, 1))\n",
    "            \n",
    "        return output\n",
    "    \n",
    "    def backprop(self, dZ_prev, m, is_batch_mode=False):\n",
    "        dZ_prev = dZ_prev.reshape((self.n_out[0], self.n_out[1], self.n_filters))\n",
    "        dZ = np.zeros(self.A_prev.shape)\n",
    "        \n",
    "        module = self._get_module()\n",
    "        \n",
    "        for segment, i, j, in self._get_segment(self.A_prev):\n",
    "            row, col, _filter = segment.shape\n",
    "            max_val = module.amax(segment, axis=(0, 1))\n",
    "            \n",
    "            for ii in range(row):\n",
    "                for jj in range(col):\n",
    "                    for kk in range(_filter):\n",
    "                        if segment[ii, jj, kk] == max_val[kk]:\n",
    "                            dZ[i * self.factor + ii, j * self.factor + jj, kk] = dZ_prev[i, j, kk]\n",
    "        \n",
    "        return dZ, None, None\n",
    "                            \n",
    "    \n",
    "    def update(self, hyperparams, dW, db):\n",
    "        pass"
   ],
   "id": "f75e403b02af1552",
   "outputs": [],
   "execution_count": 26
  },
  {
   "metadata": {
    "ExecuteTime": {
     "end_time": "2024-11-03T21:56:50.933038Z",
     "start_time": "2024-11-03T21:56:50.926539Z"
    }
   },
   "cell_type": "code",
   "source": [
    "class NN:\n",
    "    def __init__(self, layers: List[Layer], hyperparams: dict, loss_function: LossFunction, cuda=False):\n",
    "        self.layers = layers\n",
    "        self.layers[-1].is_output = True\n",
    "        \n",
    "        self.hyperparams = hyperparams\n",
    "        \n",
    "        self.loss_function = loss_function\n",
    "        \n",
    "        self.cuda = cuda\n",
    "    \n",
    "    def forward(self, X, is_training = True):\n",
    "        if self.cuda:\n",
    "            X = cp.asarray(X)\n",
    "        \n",
    "        if len(X.shape) == 1:\n",
    "            A_prev = X.reshape((1, X.shape[0]))\n",
    "        else:\n",
    "            A_prev = X\n",
    "            \n",
    "        for layer in self.layers:\n",
    "            A_prev = layer.forward(A_prev, is_training)\n",
    "        \n",
    "        return A_prev\n",
    "    \n",
    "    def backprop(self, y_pred, y_true, is_batch_mode=False):\n",
    "        if self.cuda:\n",
    "            y_pred = cp.asarray(y_pred)\n",
    "            y_true = cp.asarray(y_true)\n",
    "        \n",
    "        dZ = self.loss_function.gradient(y_pred, y_true)\n",
    "        \n",
    "        for layer in self.layers[::-1]:\n",
    "            dZ, dW, db = layer.backprop(dZ, y_true.shape[0], is_batch_mode)\n",
    "            layer.update(self.hyperparams, dW, db)\n",
    "    \n",
    "    def accuracy(self, y_pred, y_true):\n",
    "        axis = len(y_true.shape) - 1\n",
    "        decoded_y_pred = np.argmax(y_pred, axis = axis)\n",
    "        decoded_y_true = np.argmax(y_true, axis = axis)\n",
    "        return np.sum(decoded_y_pred == decoded_y_true) / y_true.shape[0]\n",
    "    \n",
    "    def train(self, train_set, train_label_set, test_set, test_label_set, epochs = 10000, is_batch_mode=False, batch_size=100, decay_step = 100, decay_rate = 0.96, save_path=None):\n",
    "        if self.cuda:\n",
    "            train_set = cp.asarray(train_set)\n",
    "            train_label_set = cp.asarray(train_label_set)\n",
    "            test_set = cp.asarray(test_set)\n",
    "            test_label_set = cp.asarray(test_label_set)\n",
    "        \n",
    "        self.hyperparams[\"epochs\"] = epochs\n",
    "        \n",
    "        train_losses = []\n",
    "        test_losses = []\n",
    "        \n",
    "        avg_train_loss = 0\n",
    "        avg_test_loss = 0\n",
    "        \n",
    "        batch_count = train_set.shape[0] // batch_size\n",
    "        \n",
    "        for epoch in tqdm(range(epochs)):\n",
    "            if is_batch_mode:\n",
    "                rand_batch_idx = np.random.randint(0, batch_count - 1)\n",
    "                start = rand_batch_idx * batch_size\n",
    "                end = min((rand_batch_idx + 1) * batch_size, train_set.shape[0])\n",
    "                X = train_set[start:end]\n",
    "                y = train_label_set[start:end]\n",
    "            else:\n",
    "                rand_idx = np.random.randint(0, train_set.shape[0])\n",
    "                X = train_set[rand_idx]\n",
    "                y = train_label_set[rand_idx]\n",
    "            \n",
    "            y_pred = self.forward(X)\n",
    "            \n",
    "            training_loss = self.loss_function.loss(y_pred, y)\n",
    "            avg_train_loss += training_loss\n",
    "            \n",
    "            self.backprop(y_pred, y)\n",
    "            \n",
    "            rand_idx = np.random.randint(0, test_set.shape[0])\n",
    "            X_test = test_set[rand_idx]\n",
    "            y_test = test_label_set[rand_idx]\n",
    "            \n",
    "            test_y_pred = self.forward(X_test, is_training = False)\n",
    "            test_loss = self.loss_function.loss(test_y_pred, y_test)\n",
    "            avg_test_loss += test_loss\n",
    "            \n",
    "            if epoch % decay_step == 0 and epoch > 0:\n",
    "                self.hyperparams[\"learning_rate\"] *= decay_rate\n",
    "                \n",
    "                avg_train_loss /= decay_step\n",
    "                avg_test_loss /= decay_step\n",
    "                \n",
    "                if self.cuda:\n",
    "                    test_losses.append(avg_test_loss.get())\n",
    "                    train_losses.append(avg_train_loss.get())\n",
    "                else:\n",
    "                    test_losses.append(avg_test_loss)\n",
    "                    train_losses.append(avg_train_loss)\n",
    "                \n",
    "                # print(f\"Loss (train) {epoch }: {avg_train_loss}\")\n",
    "                # print(f\"Loss (test) {epoch}: {avg_test_loss}\")\n",
    "                \n",
    "                avg_train_loss = 0\n",
    "                avg_test_loss = 0\n",
    "                \n",
    "                if save_path is not None:\n",
    "                    with open(save_path + \"/\" + f\"NN_{epoch}\", \"wb\") as f:\n",
    "                        pickle.dump(self, f)\n",
    "                        \n",
    "        \n",
    "        avg_train_loss /= decay_step\n",
    "        avg_test_loss /= decay_step\n",
    "        \n",
    "        if self.cuda:\n",
    "            test_losses.append(avg_test_loss.get())\n",
    "            train_losses.append(avg_train_loss.get())\n",
    "        else:\n",
    "            test_losses.append(avg_test_loss)\n",
    "            train_losses.append(avg_train_loss)\n",
    "        \n",
    "        # print(f\"Loss (train) {epochs}: {avg_train_loss}\")\n",
    "        # print(f\"Loss (test) {epochs}: {avg_test_loss}\")\n",
    "        \n",
    "        if save_path is not None:\n",
    "            with open(save_path + \"/\" + f\"NN_{epochs}\", \"wb\") as f:\n",
    "                pickle.dump(self, f)\n",
    "        \n",
    "        return train_losses, test_losses"
   ],
   "id": "f7737ebe94797afa",
   "outputs": [],
   "execution_count": 27
  },
  {
   "metadata": {},
   "cell_type": "markdown",
   "source": "## Experiment Manager",
   "id": "1c4a044c2c94ae9a"
  },
  {
   "metadata": {
    "ExecuteTime": {
     "end_time": "2024-11-03T21:56:51.581151Z",
     "start_time": "2024-11-03T21:56:51.576139Z"
    }
   },
   "cell_type": "code",
   "source": [
    "class ExperimentManager:\n",
    "    def __init__(self, experiment_folder: str):\n",
    "        self.experiment_name = os.path.abspath('.') + \"/\" + experiment_folder\n",
    "        \n",
    "        if os.path.isdir(self.experiment_name):\n",
    "            shutil.rmtree(self.experiment_name)\n",
    "            \n",
    "        os.mkdir(self.experiment_name)\n",
    "        os.mkdir(self.experiment_name + \"/weights\")\n",
    "        \n",
    "        self.train_set = None\n",
    "        self.train_label_set = None\n",
    "        self.validation_set = None\n",
    "        self.validation_label_set = None\n",
    "        self.test_set = None\n",
    "        self.test_label_set = None\n",
    "    \n",
    "    def load_data(self, train_data, train_labels, test_data, test_labels, train_portion = 0.75):\n",
    "        perm = np.random.permutation(train_images.shape[0])\n",
    "        \n",
    "        self.train_set = train_data[perm[:int(train_portion * train_data.shape[0])]]\n",
    "        self.train_label_set = train_labels[perm[:int(train_portion * train_labels.shape[0])]]\n",
    "        \n",
    "        self.validation_set = train_data[perm[int(train_portion * train_data.shape[0]):]]\n",
    "        self.validation_label_set = train_labels[perm[int(train_portion * train_labels.shape[0]):]]\n",
    "        \n",
    "        self.test_set = test_data\n",
    "        self.test_label_set = test_labels\n",
    "    \n",
    "    def load_nn(self, path):\n",
    "        with open(path, 'rb') as f:\n",
    "            return pickle.load(f)\n",
    "    \n",
    "    def results_on_test(self, nn):\n",
    "        cuda = nn.cuda\n",
    "        \n",
    "        output = []\n",
    "        for test_value in tqdm(self.test_set):\n",
    "            output_value = nn.forward(test_value, is_training = False)\n",
    "            if cuda:\n",
    "                output_value = output_value.get()\n",
    "            output.append(output_value.flatten())\n",
    "        \n",
    "        output = np.array(output)\n",
    "        acc = nn.accuracy(output, test_encoded_labels)\n",
    "        output = one_hot_decoding(output)\n",
    "        \n",
    "        cf_matrix = confusion_matrix(test_labels, output)\n",
    "        cm_display = ConfusionMatrixDisplay(confusion_matrix = cf_matrix)\n",
    "        cm_display.plot()\n",
    "        plt.suptitle(f\"Accuracy on test set: {acc * 100:.2f}%\")\n",
    "        plt.savefig(self.experiment_name + '/' + 'results.png')\n",
    "    \n",
    "    def save_weights(self, nn, n = 10):\n",
    "        for i in range(n):\n",
    "            if nn.cuda:\n",
    "                weights = nn.layers[0].weights[:,i].reshape((28, 28)).get()\n",
    "            else:\n",
    "                weights = nn.layers[0].weights[:,i].reshape((28, 28))\n",
    "            \n",
    "            plt.imshow(weights, cmap=plt.get_cmap('gray'))\n",
    "            plt.savefig(self.experiment_name + '/weights/' + f'weight_{i + 1}.png')\n",
    "            plt.clf()\n",
    "    \n",
    "    def experiment(self, nn: NN, epochs = 10000, is_batch_mode=False, batch_size=100, decay_step = 100, decay_rate = 0.96):\n",
    "        train_losses, validation_losses = nn.train(self.train_set, self.train_label_set, self.validation_set, self.validation_label_set,\n",
    "                                                   epochs, is_batch_mode, batch_size, decay_step, decay_rate,\n",
    "                                                   save_path = self.experiment_name)\n",
    "        plt.plot(range(0, epochs, decay_step), train_losses, label='train')\n",
    "        plt.plot(range(0, epochs, decay_step), validation_losses, label='validation')\n",
    "        plt.xlabel('Epoch')\n",
    "        plt.ylabel('Loss')\n",
    "        plt.savefig(self.experiment_name + '/' + 'loss.png')\n",
    "        plt.show()\n",
    "        \n",
    "        # self.save_weights(nn)\n",
    "        self.results_on_test(nn)"
   ],
   "id": "7e76a3ca849e4668",
   "outputs": [],
   "execution_count": 28
  },
  {
   "metadata": {},
   "cell_type": "markdown",
   "source": "## Initialization of NN with distinct params (code testing)",
   "id": "b32d3a580de6cae5"
  },
  {
   "metadata": {
    "ExecuteTime": {
     "end_time": "2024-11-03T22:09:05.405967Z",
     "start_time": "2024-11-03T22:09:05.403168Z"
    }
   },
   "cell_type": "code",
   "source": [
    "epochs = 60000\n",
    "decay_step = epochs // 10\n",
    "\n",
    "hyperparams = {\n",
    "    \"learning_rate\": 0.01,\n",
    "    \"beta1\": 0.9,\n",
    "    \"beta2\": 0.999,\n",
    "}\n",
    "\n",
    "is_batch_mode = False\n",
    "batch_size = 100\n",
    "\n",
    "cuda = False\n",
    "\n",
    "nn = NN(layers=[\n",
    "    CNN((28, 28), (26, 26), 8, cuda=cuda),\n",
    "    MaxPoolLayer((26, 26), (13, 13), 8, cuda=cuda),\n",
    "    DenseLayer(1352, 10, activation=\"softmax\", cuda=cuda, optimizer=\"momentum\", need_flatten=True),\n",
    "], hyperparams=hyperparams, loss_function=CategoricalCrossEntropy(cuda), cuda=cuda)"
   ],
   "id": "501b9e7547ee09fb",
   "outputs": [],
   "execution_count": 32
  },
  {
   "metadata": {
    "ExecuteTime": {
     "end_time": "2024-11-03T22:22:37.318788Z",
     "start_time": "2024-11-03T22:09:06.782435Z"
    }
   },
   "cell_type": "code",
   "source": [
    "em = ExperimentManager(\"cnn_60000_it\")\n",
    "em.load_data(train_images, train_encoded_labels, test_images, test_encoded_labels)\n",
    "em.experiment(nn, epochs = epochs, is_batch_mode = is_batch_mode, batch_size = batch_size, decay_step=decay_step)"
   ],
   "id": "b3d30b4863250290",
   "outputs": [
    {
     "data": {
      "text/plain": [
       "  0%|          | 0/60000 [00:00<?, ?it/s]"
      ],
      "application/vnd.jupyter.widget-view+json": {
       "version_major": 2,
       "version_minor": 0,
       "model_id": "00d5983737ca41e5a26733b79a65eb0f"
      }
     },
     "metadata": {},
     "output_type": "display_data"
    },
    {
     "data": {
      "text/plain": [
       "<Figure size 640x480 with 1 Axes>"
      ],
      "image/png": "[encoded data removed]"
     },
     "metadata": {},
     "output_type": "display_data"
    },
    {
     "data": {
      "text/plain": [
       "  0%|          | 0/10000 [00:00<?, ?it/s]"
      ],
      "application/vnd.jupyter.widget-view+json": {
       "version_major": 2,
       "version_minor": 0,
       "model_id": "220a2fee3c0d4a6e93c923fb8c0fb967"
      }
     },
     "metadata": {},
     "output_type": "display_data"
    },
    {
     "data": {
      "text/plain": [
       "<Figure size 640x480 with 2 Axes>"
      ],
      "image/png": "[encoded data removed]"
     },
     "metadata": {},
     "output_type": "display_data"
    }
   ],
   "execution_count": 33
  },
  {
   "metadata": {
    "ExecuteTime": {
     "end_time": "2024-11-03T22:24:49.567824Z",
     "start_time": "2024-11-03T22:24:49.565664Z"
    }
   },
   "cell_type": "code",
   "source": [
    "occlusion_window = np.array([\n",
    "    [0, 0],\n",
    "    [0, 0]\n",
    "])"
   ],
   "id": "1521fe40f7d49ca2",
   "outputs": [],
   "execution_count": 34
  },
  {
   "metadata": {},
   "cell_type": "code",
   "outputs": [],
   "execution_count": null,
   "source": "",
   "id": "ba8422369ade2d3f"
  }
 ],
 "metadata": {
  "kernelspec": {
   "display_name": "Python 3",
   "language": "python",
   "name": "python3"
  },
  "language_info": {
   "codemirror_mode": {
    "name": "ipython",
    "version": 2
   },
   "file_extension": ".py",
   "mimetype": "text/x-python",
   "name": "python",
   "nbconvert_exporter": "python",
   "pygments_lexer": "ipython2",
   "version": "2.7.6"
  }
 },
 "nbformat": 4,
 "nbformat_minor": 5
}
