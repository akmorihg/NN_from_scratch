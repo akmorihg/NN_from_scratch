{
 "cells": [
  {
   "cell_type": "code",
   "id": "initial_id",
   "metadata": {
    "collapsed": true,
    "ExecuteTime": {
     "end_time": "2024-10-06T09:05:53.499413Z",
     "start_time": "2024-10-06T09:05:53.088637Z"
    }
   },
   "source": [
    "import struct\n",
    "from typing import List\n",
    "\n",
    "import numpy as np\n",
    "import matplotlib.pyplot as plt\n",
    "\n",
    "from tqdm.auto import tqdm"
   ],
   "outputs": [],
   "execution_count": 1
  },
  {
   "metadata": {},
   "cell_type": "markdown",
   "source": "# Reading Data",
   "id": "442138ec72aa04f7"
  },
  {
   "metadata": {
    "ExecuteTime": {
     "end_time": "2024-10-06T09:05:54.551528Z",
     "start_time": "2024-10-06T09:05:54.548849Z"
    }
   },
   "cell_type": "code",
   "source": [
    "def load_images(path: str):\n",
    "    # Images in 784x1 format\n",
    "    images = []\n",
    "    \n",
    "    with open(path, mode='rb') as f:\n",
    "        # Read header values\n",
    "        magic_number, n, rows, cols = struct.unpack('>IIII', f.read(16))\n",
    "        \n",
    "        for _ in range(n):\n",
    "            # Read and unpack image (which has 28x28 bytes)\n",
    "            image = list(struct.unpack('>' + 'B' * (rows * cols), f.read(rows * cols)))\n",
    "            images.append(image)\n",
    "    \n",
    "    return np.array(images)"
   ],
   "id": "bd7dd7e6d54826a5",
   "outputs": [],
   "execution_count": 2
  },
  {
   "metadata": {
    "ExecuteTime": {
     "end_time": "2024-10-06T09:05:55.261915Z",
     "start_time": "2024-10-06T09:05:55.259373Z"
    }
   },
   "cell_type": "code",
   "source": [
    "def load_labels(path: str):\n",
    "    with open(path, mode='rb') as f:\n",
    "        # Read header values\n",
    "        magic_number, n = struct.unpack('>II', f.read(8))\n",
    "        \n",
    "        # Read and return labels\n",
    "        return np.array(struct.unpack('>' + 'B' * n, f.read(n)))"
   ],
   "id": "b4579a303621b220",
   "outputs": [],
   "execution_count": 3
  },
  {
   "metadata": {
    "ExecuteTime": {
     "end_time": "2024-10-06T09:05:57.867884Z",
     "start_time": "2024-10-06T09:05:55.836527Z"
    }
   },
   "cell_type": "code",
   "source": [
    "train_images_path = \"train-images.idx3-ubyte\"\n",
    "train_labels_path = \"train-labels.idx1-ubyte\"\n",
    "test_images_path = \"t10k-images.idx3-ubyte\"\n",
    "test_labels_path = \"t10k-labels.idx1-ubyte\"\n",
    "\n",
    "train_images = load_images(train_images_path)\n",
    "train_labels = load_labels(train_labels_path)\n",
    "test_images = load_images(test_images_path)\n",
    "test_labels = load_labels(test_labels_path)"
   ],
   "id": "6faca7926a7e0471",
   "outputs": [],
   "execution_count": 4
  },
  {
   "metadata": {},
   "cell_type": "markdown",
   "source": "## Whitening (Z-Scoring) data",
   "id": "4e69b32c20cf7186"
  },
  {
   "metadata": {
    "ExecuteTime": {
     "end_time": "2024-10-06T09:05:59.026527Z",
     "start_time": "2024-10-06T09:05:59.024317Z"
    }
   },
   "cell_type": "code",
   "source": [
    "def z_score(data):\n",
    "    mean = np.mean(data)\n",
    "    std = np.std(data)\n",
    "    return mean, std, (data - mean) / std"
   ],
   "id": "78e1717ed30db701",
   "outputs": [],
   "execution_count": 5
  },
  {
   "metadata": {
    "ExecuteTime": {
     "end_time": "2024-10-06T09:06:00.004697Z",
     "start_time": "2024-10-06T09:05:59.611202Z"
    }
   },
   "cell_type": "code",
   "source": "mean, std, train_images = z_score(train_images)",
   "id": "fecae37194690b0e",
   "outputs": [],
   "execution_count": 6
  },
  {
   "metadata": {
    "ExecuteTime": {
     "end_time": "2024-10-06T09:06:00.197847Z",
     "start_time": "2024-10-06T09:06:00.172078Z"
    }
   },
   "cell_type": "code",
   "source": "test_images = (test_images - mean) / std",
   "id": "d9fc1e3570477174",
   "outputs": [],
   "execution_count": 7
  },
  {
   "metadata": {},
   "cell_type": "markdown",
   "source": "# Re-shape and Visualization",
   "id": "c9a6dc66c1f6fedf"
  },
  {
   "metadata": {
    "ExecuteTime": {
     "end_time": "2024-10-06T09:06:01.279055Z",
     "start_time": "2024-10-06T09:06:01.276791Z"
    }
   },
   "cell_type": "code",
   "source": [
    "def reshape_matrix_to_images(matrix_images):\n",
    "    apply_function = lambda row: row.reshape((28, 28))\n",
    "    return np.apply_along_axis(apply_function, axis=1, arr=matrix_images)"
   ],
   "id": "35bd238546f13dcd",
   "outputs": [],
   "execution_count": 8
  },
  {
   "metadata": {
    "ExecuteTime": {
     "end_time": "2024-10-06T09:44:27.196679Z",
     "start_time": "2024-10-06T09:44:27.193148Z"
    }
   },
   "cell_type": "code",
   "source": [
    "def plot_image(reshaped_image):\n",
    "    plt.imshow(reshaped_image, cmap=plt.get_cmap('gray'))\n",
    "    plt.show()"
   ],
   "id": "78cb0ee208741da5",
   "outputs": [],
   "execution_count": 216
  },
  {
   "metadata": {},
   "cell_type": "markdown",
   "source": "## Checking image-label pair",
   "id": "f7e7f77bd9b7ebff"
  },
  {
   "metadata": {},
   "cell_type": "markdown",
   "source": "### Train Data",
   "id": "bb6f9e34fffd44ee"
  },
  {
   "metadata": {
    "ExecuteTime": {
     "end_time": "2024-10-06T09:06:20.367052Z",
     "start_time": "2024-10-06T09:06:20.163555Z"
    }
   },
   "cell_type": "code",
   "source": [
    "reshaped_images = reshape_matrix_to_images(train_images)\n",
    "rand_index = np.random.randint(0, len(train_images))\n",
    "plot_image(reshaped_images[rand_index])\n",
    "print(\"Random Index: \", rand_index)\n",
    "print(\"Label:\", train_labels[rand_index])"
   ],
   "id": "4be6950b6a302b6e",
   "outputs": [
    {
     "data": {
      "text/plain": [
       "<Figure size 640x480 with 1 Axes>"
      ],
      "image/png": "[encoded data removed]"
     },
     "metadata": {},
     "output_type": "display_data"
    },
    {
     "name": "stdout",
     "output_type": "stream",
     "text": [
      "Random Index:  27020\n",
      "Label: 1\n"
     ]
    }
   ],
   "execution_count": 11
  },
  {
   "metadata": {},
   "cell_type": "markdown",
   "source": "### Test data",
   "id": "efb250c6ef3d7edb"
  },
  {
   "metadata": {
    "ExecuteTime": {
     "end_time": "2024-10-06T09:06:23.558296Z",
     "start_time": "2024-10-06T09:06:23.484200Z"
    }
   },
   "cell_type": "code",
   "source": [
    "reshaped_images = reshape_matrix_to_images(test_images)\n",
    "rand_index = np.random.randint(0, len(test_images))\n",
    "plot_image(reshaped_images[rand_index])\n",
    "print(\"Label:\", test_labels[rand_index])"
   ],
   "id": "9e63802c1ea9cd85",
   "outputs": [
    {
     "data": {
      "text/plain": [
       "<Figure size 640x480 with 1 Axes>"
      ],
      "image/png": "[encoded data removed]"
     },
     "metadata": {},
     "output_type": "display_data"
    },
    {
     "name": "stdout",
     "output_type": "stream",
     "text": [
      "Label: 7\n"
     ]
    }
   ],
   "execution_count": 12
  },
  {
   "metadata": {
    "ExecuteTime": {
     "end_time": "2024-10-06T09:06:34.861677Z",
     "start_time": "2024-10-06T09:06:34.859443Z"
    }
   },
   "cell_type": "code",
   "source": [
    "def one_hot_encoding(labels):\n",
    "    one_hot_encoded_labels = []\n",
    "    for i, label in enumerate(labels):\n",
    "        one_hot_label = np.zeros(10)\n",
    "        one_hot_label[label] = 1.0\n",
    "        one_hot_encoded_labels.append(one_hot_label)\n",
    "    \n",
    "    return np.array(one_hot_encoded_labels)"
   ],
   "id": "d62d96458f5bafb0",
   "outputs": [],
   "execution_count": 13
  },
  {
   "metadata": {
    "ExecuteTime": {
     "end_time": "2024-10-06T09:06:35.328084Z",
     "start_time": "2024-10-06T09:06:35.290255Z"
    }
   },
   "cell_type": "code",
   "source": [
    "train_encoded_labels = one_hot_encoding(train_labels)\n",
    "test_encoded_labels = one_hot_encoding(test_labels)"
   ],
   "id": "8df878d6ea86c70f",
   "outputs": [],
   "execution_count": 14
  },
  {
   "metadata": {},
   "cell_type": "markdown",
   "source": "## Checking 'one_hot_encoding' function working correct",
   "id": "6345f7c0b0317a2a"
  },
  {
   "metadata": {
    "ExecuteTime": {
     "end_time": "2024-10-06T09:06:36.241337Z",
     "start_time": "2024-10-06T09:06:36.238532Z"
    }
   },
   "cell_type": "code",
   "source": "train_encoded_labels[10]",
   "id": "84ba94d42bca7d67",
   "outputs": [
    {
     "data": {
      "text/plain": [
       "array([0., 0., 0., 1., 0., 0., 0., 0., 0., 0.])"
      ]
     },
     "execution_count": 15,
     "metadata": {},
     "output_type": "execute_result"
    }
   ],
   "execution_count": 15
  },
  {
   "metadata": {
    "ExecuteTime": {
     "end_time": "2024-10-06T09:06:41.859199Z",
     "start_time": "2024-10-06T09:06:41.856621Z"
    }
   },
   "cell_type": "code",
   "source": "train_labels[10]",
   "id": "8932d609a677299b",
   "outputs": [
    {
     "data": {
      "text/plain": [
       "np.int64(3)"
      ]
     },
     "execution_count": 16,
     "metadata": {},
     "output_type": "execute_result"
    }
   ],
   "execution_count": 16
  },
  {
   "metadata": {},
   "cell_type": "markdown",
   "source": "# NN",
   "id": "62b043ba0cbacbaa"
  },
  {
   "metadata": {},
   "cell_type": "markdown",
   "source": "## Activation Functions",
   "id": "a2a3505480cb53df"
  },
  {
   "metadata": {
    "ExecuteTime": {
     "end_time": "2024-10-06T09:06:49.456731Z",
     "start_time": "2024-10-06T09:06:49.454048Z"
    }
   },
   "cell_type": "code",
   "source": [
    "from abc import ABC, abstractmethod\n",
    "\n",
    "\n",
    "class ActivationFunction(ABC):\n",
    "    @abstractmethod\n",
    "    def forward(self, x):\n",
    "        pass\n",
    "    \n",
    "    @abstractmethod\n",
    "    def derivatives(self, x):\n",
    "        pass\n",
    "\n",
    "class Relu(ActivationFunction):\n",
    "    def forward(self, x):\n",
    "        return np.maximum(x, 0)\n",
    "    \n",
    "    def derivatives(self, x):\n",
    "        return x > 0\n",
    "\n",
    "class Softmax(ActivationFunction):\n",
    "    def forward(self, x):\n",
    "        exps = np.exp(x - x.max())\n",
    "        return exps / np.sum(exps)\n",
    "    \n",
    "    def derivatives(self, x):\n",
    "        return 1"
   ],
   "id": "671cc4dd692f7e9f",
   "outputs": [],
   "execution_count": 17
  },
  {
   "metadata": {},
   "cell_type": "markdown",
   "source": "## Weight Initializers",
   "id": "c3a3df6e772139ce"
  },
  {
   "metadata": {
    "ExecuteTime": {
     "end_time": "2024-10-06T09:57:20.873976Z",
     "start_time": "2024-10-06T09:57:20.871278Z"
    }
   },
   "cell_type": "code",
   "source": [
    "class WeightInitializer(ABC):\n",
    "    @abstractmethod\n",
    "    def init(self, n_in, n_out):\n",
    "        pass\n",
    "    \n",
    "class NormalInitializer(WeightInitializer):\n",
    "    def init(self, n_in, n_out):\n",
    "        return np.random.standard_normal(size=(n_in, n_out))\n",
    "    \n",
    "class XavierInitializer(WeightInitializer):\n",
    "    def init(self, n_in, n_out):\n",
    "        return np.random.normal(0, 1/n_in, size=(n_in, n_out))\n",
    "\n",
    "# Weights initializer from given research paper and yes, it works SUPER\n",
    "class PaperInitializer(WeightInitializer):\n",
    "    def init(self, n_in, n_out):\n",
    "        return np.random.normal(0, np.sqrt(2/n_in), size=(n_in, n_out))"
   ],
   "id": "fd7ba808c64764d8",
   "outputs": [],
   "execution_count": 239
  },
  {
   "metadata": {
    "ExecuteTime": {
     "end_time": "2024-10-06T09:06:51.913631Z",
     "start_time": "2024-10-06T09:06:51.909401Z"
    }
   },
   "cell_type": "code",
   "source": [
    "class Layer:\n",
    "    def __init__(self, n_in, n_out, is_output = False,\n",
    "                 weight_init: WeightInitializer = PaperInitializer(),\n",
    "                 activation: ActivationFunction = Relu()):\n",
    "        self.n_in = n_in\n",
    "        self.n_out = n_out\n",
    "        self.is_output = is_output\n",
    "        \n",
    "        self.weight_init = weight_init\n",
    "        self.activation = activation\n",
    "        \n",
    "        self.weights = self.weight_init.init(n_in, n_out)\n",
    "        self.bias = np.zeros((1, n_out))\n",
    "        \n",
    "        self.A_prev = None\n",
    "        self.Z = None\n",
    "        self.A_current = None\n",
    "        \n",
    "        self.Z_mean = None\n",
    "        self.Z_std = None\n",
    "        \n",
    "        self.v = 0\n",
    "    \n",
    "    def forward(self, A_prev, is_training = True):\n",
    "        self.A_prev = A_prev\n",
    "        \n",
    "        self.Z = np.dot(A_prev, self.weights) + self.bias\n",
    "        \n",
    "        \n",
    "        if is_training and self.Z.shape[0] != 1:\n",
    "            self.Z_mean = np.mean(self.Z, axis = 0)\n",
    "            self.Z_std = np.std(self.Z, axis = 0)\n",
    "\n",
    "        if self.Z_mean is not None and self.Z_std is not None:    \n",
    "            self.Z = (self.Z - self.Z_mean) / self.Z_std\n",
    "        \n",
    "        self.A_current = self.activation.forward(self.Z)\n",
    "        \n",
    "        return self.A_current\n",
    "\n",
    "    def backprop(self, dZ_prev, m, batch_mode):\n",
    "        if batch_mode:\n",
    "            self.A_prev = np.mean(self.A_prev, axis = 0, keepdims = True)\n",
    "            self.Z = np.mean(self.Z, axis = 0, keepdims = True)\n",
    "            self.A_current = np.mean(self.A_current, axis = 0, keepdims = True)\n",
    "        \n",
    "        if self.is_output:\n",
    "            dZ = dZ_prev\n",
    "        else:\n",
    "            dZ = dZ_prev * self.activation.derivatives(self.Z)\n",
    "        \n",
    "        dW = 1/m * np.dot(self.A_prev.T, dZ)\n",
    "        db = 1/m * np.sum(dZ, axis=0, keepdims=True)\n",
    "        dZ_next = np.dot(dZ, self.weights.T)\n",
    "        \n",
    "        return dZ_next, dW, db\n",
    "    \n",
    "    def update(self, dW, db, learning_rate, beta):\n",
    "        self.v = beta * self.v + (1 - beta) * dW\n",
    "        \n",
    "        self.weights -= learning_rate * self.v\n",
    "        self.bias -= learning_rate * db"
   ],
   "id": "a635f55e1dd09252",
   "outputs": [],
   "execution_count": 19
  },
  {
   "metadata": {
    "ExecuteTime": {
     "end_time": "2024-10-06T10:14:13.698944Z",
     "start_time": "2024-10-06T10:14:13.692890Z"
    }
   },
   "cell_type": "code",
   "source": [
    "class NN:\n",
    "    def __init__(self, layers: List[Layer], learning_rate: float = 0.1, beta=0.9, batch_size: int = 100):\n",
    "        self.layers = layers\n",
    "        self.layers[-1].is_output = True\n",
    "        \n",
    "        self.learning_rate = learning_rate\n",
    "        self.beta = beta\n",
    "        \n",
    "        self.batch_size = batch_size\n",
    "    \n",
    "    def forward(self, X, is_training = True):\n",
    "        if len(X.shape) == 1:\n",
    "            A_prev = X.reshape((1, X.shape[0]))\n",
    "        else:\n",
    "            A_prev = X\n",
    "            \n",
    "        for layer in self.layers:\n",
    "            A_prev = layer.forward(A_prev, is_training)\n",
    "        \n",
    "        return A_prev\n",
    "    \n",
    "    def backprop(self, y_pred, y_true, batch_mode):\n",
    "        if batch_mode:\n",
    "            dZ = np.mean((y_pred - y_true), axis = 0)\n",
    "        else:\n",
    "            dZ = y_pred - y_true\n",
    "        \n",
    "        if len(dZ.shape) == 1:\n",
    "            dZ = dZ.reshape((1, dZ.shape[0]))\n",
    "            \n",
    "        for layer in self.layers[::-1]:\n",
    "            dZ, dW, db = layer.backprop(dZ, y_true.shape[0], batch_mode)\n",
    "            layer.update(dW, db, self.learning_rate, self.beta)\n",
    "    \n",
    "    def compute_loss(self, y_pred, y_true):\n",
    "        return -np.sum(y_true * np.log(y_pred))\n",
    "    \n",
    "    def accuracy(self, y_pred, y_true, batch_mode):\n",
    "        if batch_mode:\n",
    "            y_pred_max = np.argmax(y_pred, axis = 0)\n",
    "            y_true_max = np.argmax(y_true, axis = 0)\n",
    "            return np.sum(np.round(y_pred_max) == y_true_max) / y_true.shape[0]\n",
    "        \n",
    "        return np.sum(np.round(y_pred) == y_true) / y_true.shape[0]\n",
    "    \n",
    "    def train(self, train_set, train_label_set, test_set, test_label_set, batch_mode = False, epochs = 1000, decay_step = 10, decay_rate = 0.96):\n",
    "        train_losses = []\n",
    "        test_losses = []\n",
    "        \n",
    "        train_accuracies = []\n",
    "        test_accuracies = []\n",
    "        \n",
    "        avg_train_loss = 0\n",
    "        avg_test_loss = 0\n",
    "        \n",
    "        batch_count_train = train_set.shape[0] // self.batch_size\n",
    "        batch_count_test = test_set.shape[0] // self.batch_size\n",
    "        \n",
    "        for epoch in tqdm(range(epochs + 1)):\n",
    "            if batch_mode:\n",
    "                rand_idx = np.random.randint(0, batch_count_train)\n",
    "                start = rand_idx * self.batch_size\n",
    "                end = (rand_idx + 1) * self.batch_size\n",
    "                \n",
    "                X = train_set[start:end]\n",
    "                y = train_label_set[start:end]\n",
    "            else:\n",
    "                rand_idx = np.random.randint(0, train_set.shape[0])\n",
    "                X = train_set[rand_idx]\n",
    "                y = train_label_set[rand_idx]\n",
    "            \n",
    "            y_pred = self.forward(X)\n",
    "            \n",
    "            training_loss = self.compute_loss(y_pred, y)\n",
    "            avg_train_loss += training_loss\n",
    "            \n",
    "            self.backprop(y_pred, y, batch_mode)\n",
    "            \n",
    "            acc = self.accuracy(y_pred, y, batch_mode)\n",
    "            train_accuracies.append(acc)\n",
    "            \n",
    "            if batch_mode:\n",
    "                rand_idx = np.random.randint(0, batch_count_test)\n",
    "                start = rand_idx * self.batch_size\n",
    "                end = (rand_idx + 1) * self.batch_size\n",
    "                X_test = test_set[start:end]\n",
    "                y_test = test_label_set[start:end]\n",
    "            else:\n",
    "                rand_idx = np.random.randint(0, train_set.shape[0])\n",
    "                X_test = test_set[rand_idx]\n",
    "                y_test = test_label_set[rand_idx]\n",
    "            \n",
    "            test_y_pred = self.forward(X_test, is_training = False)\n",
    "            test_loss = self.compute_loss(test_y_pred, y_test)\n",
    "            test_acc = self.accuracy(test_y_pred, y_test, batch_mode)\n",
    "            avg_test_loss += test_loss\n",
    "            test_accuracies.append(test_acc)\n",
    "            \n",
    "            if epoch % decay_step == 0 and epoch > 0:\n",
    "                self.learning_rate *= decay_rate\n",
    "                \n",
    "                avg_train_loss /= decay_step\n",
    "                avg_test_loss /= decay_step\n",
    "                \n",
    "                test_losses.append(avg_test_loss)\n",
    "                train_losses.append(avg_train_loss)\n",
    "                \n",
    "                print(f\"Loss (train) {epoch }: {avg_train_loss}\")\n",
    "                print(f\"Loss (test) {epoch}: {avg_test_loss}\")\n",
    "                print(f\"Accuracy (train) {epoch}: {np.mean(train_accuracies)}\")\n",
    "                print(f\"Accuracy (test) {epoch}: {np.mean(test_accuracies)}\")\n",
    "                \n",
    "                avg_train_loss = 0\n",
    "                avg_test_loss = 0\n",
    "    \n",
    "        return train_losses, test_losses"
   ],
   "id": "f7737ebe94797afa",
   "outputs": [],
   "execution_count": 277
  },
  {
   "metadata": {},
   "cell_type": "markdown",
   "source": "# Experiment",
   "id": "1c4a044c2c94ae9a"
  },
  {
   "metadata": {},
   "cell_type": "markdown",
   "source": "## Splitting data into Training and Validation sets",
   "id": "c43c80ff5e02c134"
  },
  {
   "metadata": {
    "ExecuteTime": {
     "end_time": "2024-10-06T10:14:14.724500Z",
     "start_time": "2024-10-06T10:14:14.550311Z"
    }
   },
   "cell_type": "code",
   "source": [
    "perm = np.random.permutation(train_images.shape[0])\n",
    "train_portion = 0.75\n",
    "\n",
    "train_set = train_images[perm[:int(train_portion * train_images.shape[0])]]\n",
    "train_label_set = train_encoded_labels[perm[:int(train_portion * train_labels.shape[0])]]\n",
    "\n",
    "validation_set = train_images[perm[int(train_portion * test_images.shape[0]):]]\n",
    "validation_label_set = train_encoded_labels[perm[int(train_portion * test_labels.shape[0]):]]"
   ],
   "id": "6525632c1340e1e1",
   "outputs": [],
   "execution_count": 278
  },
  {
   "metadata": {},
   "cell_type": "markdown",
   "source": "## Initialization of NN with distinct params",
   "id": "b32d3a580de6cae5"
  },
  {
   "metadata": {
    "ExecuteTime": {
     "end_time": "2024-10-06T10:14:15.632975Z",
     "start_time": "2024-10-06T10:14:15.625403Z"
    }
   },
   "cell_type": "code",
   "source": [
    "epochs = 10000\n",
    "decay_step = epochs // 100\n",
    "\n",
    "learning_rate = 0.1\n",
    "beta = 0.9\n",
    "\n",
    "batch_mode = False\n",
    "batch_size = 10\n",
    "\n",
    "nn = NN(layers=[\n",
    "    Layer(784, 512),\n",
    "    Layer(512, 10, activation=Softmax()),\n",
    "], learning_rate=learning_rate, beta=beta, batch_size=batch_size)"
   ],
   "id": "b4f1f014f5c27d18",
   "outputs": [],
   "execution_count": 279
  },
  {
   "metadata": {},
   "cell_type": "markdown",
   "source": "## Training",
   "id": "1ab8a45d0dcdc0e8"
  },
  {
   "metadata": {
    "ExecuteTime": {
     "end_time": "2024-10-06T10:14:33.896642Z",
     "start_time": "2024-10-06T10:14:16.907631Z"
    }
   },
   "cell_type": "code",
   "source": [
    "train_losses, test_losses = nn.train(train_set, train_label_set, validation_set, validation_label_set, \n",
    "                                     epochs=epochs, decay_step=decay_step, batch_mode=batch_mode)"
   ],
   "id": "3306f79b3ee6f774",
   "outputs": [
    {
     "data": {
      "text/plain": [
       "  0%|          | 0/10001 [00:00<?, ?it/s]"
      ],
      "application/vnd.jupyter.widget-view+json": {
       "version_major": 2,
       "version_minor": 0,
       "model_id": "2f00fe9672a546a5bf5a7bf5146d1d62"
      }
     },
     "metadata": {},
     "output_type": "display_data"
    },
    {
     "name": "stdout",
     "output_type": "stream",
     "text": [
      "Loss (train) 100: 2.8920079524444926\n",
      "Loss (test) 100: 2.553087882221654\n",
      "Accuracy (train) 100: 0.8960396039603963\n",
      "Accuracy (test) 100: 0.8960396039603962\n",
      "Loss (train) 200: 1.4031884827544192\n",
      "Loss (test) 200: 0.9473000154179648\n",
      "Accuracy (train) 200: 0.9099502487562191\n",
      "Accuracy (test) 200: 0.9134328358208955\n",
      "Loss (train) 300: 0.8267386004303401\n",
      "Loss (test) 300: 0.8824709430474654\n",
      "Accuracy (train) 300: 0.9235880398671097\n",
      "Accuracy (test) 300: 0.9239202657807309\n",
      "Loss (train) 400: 0.6469537120673233\n",
      "Loss (test) 400: 0.6699704604043316\n",
      "Accuracy (train) 400: 0.9329177057356609\n",
      "Accuracy (test) 400: 0.9329177057356609\n",
      "Loss (train) 500: 0.5082456844009348\n",
      "Loss (test) 500: 0.6619256514750629\n",
      "Accuracy (train) 500: 0.9403193612774452\n",
      "Accuracy (test) 500: 0.9391217564870261\n",
      "Loss (train) 600: 0.5206772236749768\n",
      "Loss (test) 600: 0.591465426576463\n",
      "Accuracy (train) 600: 0.9447587354409317\n",
      "Accuracy (test) 600: 0.9427620632279534\n",
      "Loss (train) 700: 0.4078558730917932\n",
      "Loss (test) 700: 0.5889980645738452\n",
      "Accuracy (train) 700: 0.9495007132667618\n",
      "Accuracy (test) 700: 0.9459343794579173\n",
      "Loss (train) 800: 0.4360377954956375\n",
      "Loss (test) 800: 0.5124193042363461\n",
      "Accuracy (train) 800: 0.9525593008739076\n",
      "Accuracy (test) 800: 0.9486891385767792\n",
      "Loss (train) 900: 0.48785672855249607\n",
      "Loss (test) 900: 0.7882917606668863\n",
      "Accuracy (train) 900: 0.9552719200887902\n",
      "Accuracy (test) 900: 0.9501664816870145\n",
      "Loss (train) 1000: 0.3439708199245639\n",
      "Loss (test) 1000: 0.6478152523956272\n",
      "Accuracy (train) 1000: 0.957942057942058\n",
      "Accuracy (test) 1000: 0.9522477522477523\n",
      "Loss (train) 1100: 0.4787187734546445\n",
      "Loss (test) 1100: 0.5456845522320259\n",
      "Accuracy (train) 1100: 0.9598546775658492\n",
      "Accuracy (test) 1100: 0.9544050862851955\n",
      "Loss (train) 1200: 0.38247428098672737\n",
      "Loss (test) 1200: 0.4638749218538684\n",
      "Accuracy (train) 1200: 0.9612822647793505\n",
      "Accuracy (test) 1200: 0.9562864279766861\n",
      "Loss (train) 1300: 0.6609496459871887\n",
      "Loss (test) 1300: 0.29436899653167514\n",
      "Accuracy (train) 1300: 0.9617986164488856\n",
      "Accuracy (test) 1300: 0.9580322828593391\n",
      "Loss (train) 1400: 0.4285275422538304\n",
      "Loss (test) 1400: 0.729990038592031\n",
      "Accuracy (train) 1400: 0.9627408993576019\n",
      "Accuracy (test) 1400: 0.9585296216987866\n",
      "Loss (train) 1500: 0.5145779016325989\n",
      "Loss (test) 1500: 0.46033861571068657\n",
      "Accuracy (train) 1500: 0.9634243837441706\n",
      "Accuracy (test) 1500: 0.9596269153897402\n",
      "Loss (train) 1600: 0.37866935523112843\n",
      "Loss (test) 1600: 0.41823720794905\n",
      "Accuracy (train) 1600: 0.9643347907557777\n",
      "Accuracy (test) 1600: 0.9601499063085572\n",
      "Loss (train) 1700: 0.3266062189493575\n",
      "Loss (test) 1700: 0.388067433583273\n",
      "Accuracy (train) 1700: 0.9653733098177544\n",
      "Accuracy (test) 1700: 0.961493239271017\n",
      "Loss (train) 1800: 0.4322046923777968\n",
      "Loss (test) 1800: 0.4238004445878325\n",
      "Accuracy (train) 1800: 0.9656857301499168\n",
      "Accuracy (test) 1800: 0.9622431982232094\n",
      "Loss (train) 1900: 0.2934940061836082\n",
      "Loss (test) 1900: 0.28120654790943517\n",
      "Accuracy (train) 1900: 0.9665965281430826\n",
      "Accuracy (test) 1900: 0.9632298790110467\n",
      "Loss (train) 2000: 0.35399706706769796\n",
      "Loss (test) 2000: 0.336195800428525\n",
      "Accuracy (train) 2000: 0.9669165417291355\n",
      "Accuracy (test) 2000: 0.9640179910044977\n",
      "Loss (train) 2100: 0.3456489875198212\n",
      "Loss (test) 2100: 0.44339078290284545\n",
      "Accuracy (train) 2100: 0.9675392670157069\n",
      "Accuracy (test) 2100: 0.9644455021418373\n",
      "Loss (train) 2200: 0.38869902842548676\n",
      "Loss (test) 2200: 0.5015601182338517\n",
      "Accuracy (train) 2200: 0.9679691049522944\n",
      "Accuracy (test) 2200: 0.9647887323943662\n",
      "Loss (train) 2300: 0.4532778402419924\n",
      "Loss (test) 2300: 0.28224997320809087\n",
      "Accuracy (train) 2300: 0.9681877444589307\n",
      "Accuracy (test) 2300: 0.9656671012603216\n",
      "Loss (train) 2400: 0.23468465621866574\n",
      "Loss (test) 2400: 0.2579486490334696\n",
      "Accuracy (train) 2400: 0.9689296126613911\n",
      "Accuracy (test) 2400: 0.9666389004581425\n",
      "Loss (train) 2500: 0.27496362578071293\n",
      "Loss (test) 2500: 0.38537470624460235\n",
      "Accuracy (train) 2500: 0.9694922031187524\n",
      "Accuracy (test) 2500: 0.9670131947221111\n",
      "Loss (train) 2600: 0.5487722752742605\n",
      "Loss (test) 2600: 0.5620178621793486\n",
      "Accuracy (train) 2600: 0.9694732795078815\n",
      "Accuracy (test) 2600: 0.9667435601691657\n",
      "Loss (train) 2700: 0.23745141506976772\n",
      "Loss (test) 2700: 0.1612895236783912\n",
      "Accuracy (train) 2700: 0.9700111069974083\n",
      "Accuracy (test) 2700: 0.9677526841910404\n",
      "Loss (train) 2800: 0.39288278390318093\n",
      "Loss (test) 2800: 0.2233861093013566\n",
      "Accuracy (train) 2800: 0.970439128882542\n",
      "Accuracy (test) 2800: 0.9683684398429133\n",
      "Loss (train) 2900: 0.2687241712447213\n",
      "Loss (test) 2900: 0.234540120685432\n",
      "Accuracy (train) 2900: 0.9706997587038952\n",
      "Accuracy (test) 2900: 0.969010685970355\n",
      "Loss (train) 3000: 0.32784240047374896\n",
      "Loss (test) 3000: 0.3182339545763924\n",
      "Accuracy (train) 3000: 0.9711429523492171\n",
      "Accuracy (test) 3000: 0.9693768743752084\n",
      "Loss (train) 3100: 0.22373217767806364\n",
      "Loss (test) 3100: 0.3197193806829206\n",
      "Accuracy (train) 3100: 0.971525314414705\n",
      "Accuracy (test) 3100: 0.9699129313124799\n",
      "Loss (train) 3200: 0.19356979521755158\n",
      "Loss (test) 3200: 0.21579485238835697\n",
      "Accuracy (train) 3200: 0.9720712277413309\n",
      "Accuracy (test) 3200: 0.9704154951577633\n",
      "Loss (train) 3300: 0.2605078111182874\n",
      "Loss (test) 3300: 0.25009960683478855\n",
      "Accuracy (train) 3300: 0.97252347773402\n",
      "Accuracy (test) 3300: 0.9707967282641625\n",
      "Loss (train) 3400: 0.2639334682679899\n",
      "Loss (test) 3400: 0.18757155136980302\n",
      "Accuracy (train) 3400: 0.972831520141135\n",
      "Accuracy (test) 3400: 0.9715083798882682\n",
      "Loss (train) 3500: 0.17101904982930566\n",
      "Loss (test) 3500: 0.31509407794363775\n",
      "Accuracy (train) 3500: 0.9733219080262783\n",
      "Accuracy (test) 3500: 0.9719794344473008\n",
      "Loss (train) 3600: 0.2084321957533477\n",
      "Loss (test) 3600: 0.2372426592379172\n",
      "Accuracy (train) 3600: 0.9738128297695084\n",
      "Accuracy (test) 3600: 0.9722854762565953\n",
      "Loss (train) 3700: 0.26220653059263677\n",
      "Loss (test) 3700: 0.19258489053111064\n",
      "Accuracy (train) 3700: 0.9740340448527427\n",
      "Accuracy (test) 3700: 0.9727641178059985\n",
      "Loss (train) 3800: 0.28359533155490685\n",
      "Loss (test) 3800: 0.24067473770031916\n",
      "Accuracy (train) 3800: 0.9744014732965008\n",
      "Accuracy (test) 3800: 0.9731123388581953\n",
      "Loss (train) 3900: 0.2771790597249153\n",
      "Loss (test) 3900: 0.2764256143007898\n",
      "Accuracy (train) 3900: 0.974468085106383\n",
      "Accuracy (test) 3900: 0.973288900281979\n",
      "Loss (train) 4000: 0.2563185414780712\n",
      "Loss (test) 4000: 0.1681075805507123\n",
      "Accuracy (train) 4000: 0.9746563359160211\n",
      "Accuracy (test) 4000: 0.9737065733566609\n",
      "Loss (train) 4100: 0.2078677247274943\n",
      "Loss (test) 4100: 0.34906659527038025\n",
      "Accuracy (train) 4100: 0.9750060960741282\n",
      "Accuracy (test) 4100: 0.973762496951963\n",
      "Loss (train) 4200: 0.2187351693328349\n",
      "Loss (test) 4200: 0.24343757208148742\n",
      "Accuracy (train) 4200: 0.9752915972387528\n",
      "Accuracy (test) 4200: 0.9739109735777197\n",
      "Loss (train) 4300: 0.21623493947348746\n",
      "Loss (test) 4300: 0.2617540148405403\n",
      "Accuracy (train) 4300: 0.9756800744013019\n",
      "Accuracy (test) 4300: 0.9741920483608463\n",
      "Loss (train) 4400: 0.26688998628594857\n",
      "Loss (test) 4400: 0.21208570550552672\n",
      "Accuracy (train) 4400: 0.975710065894115\n",
      "Accuracy (test) 4400: 0.9744830720290842\n",
      "Loss (train) 4500: 0.24315517712338924\n",
      "Loss (test) 4500: 0.2511994598605951\n",
      "Accuracy (train) 4500: 0.9759831148633639\n",
      "Accuracy (test) 4500: 0.9746056431904021\n",
      "Loss (train) 4600: 0.08982588041838714\n",
      "Loss (test) 4600: 0.24060915436538718\n",
      "Accuracy (train) 4600: 0.9764399043686156\n",
      "Accuracy (test) 4600: 0.974809823951315\n",
      "Loss (train) 4700: 0.22868521214198062\n",
      "Loss (test) 4700: 0.21936502992146154\n",
      "Accuracy (train) 4700: 0.9766219953201447\n",
      "Accuracy (test) 4700: 0.9751116783663051\n",
      "Loss (train) 4800: 0.24263046294692306\n",
      "Loss (test) 4800: 0.14413035926518686\n",
      "Accuracy (train) 4800: 0.9767548427410955\n",
      "Accuracy (test) 4800: 0.9753593001458031\n",
      "Loss (train) 4900: 0.28663058966731825\n",
      "Loss (test) 4900: 0.30761889927101543\n",
      "Accuracy (train) 4900: 0.97678024892879\n",
      "Accuracy (test) 4900: 0.9755152009793919\n",
      "Loss (train) 5000: 0.28712153979648475\n",
      "Loss (test) 5000: 0.23436344274486232\n",
      "Accuracy (train) 5000: 0.9769446110777844\n",
      "Accuracy (test) 5000: 0.9758448310337934\n",
      "Loss (train) 5100: 0.13822314773102254\n",
      "Loss (test) 5100: 0.2173938709350525\n",
      "Accuracy (train) 5100: 0.9772397569104097\n",
      "Accuracy (test) 5100: 0.9760831209566752\n",
      "Loss (train) 5200: 0.19265691013997394\n",
      "Loss (test) 5200: 0.19650863871568636\n",
      "Accuracy (train) 5200: 0.9774466448759853\n",
      "Accuracy (test) 5200: 0.9762545664295328\n",
      "Loss (train) 5300: 0.20888850917897894\n",
      "Loss (test) 5300: 0.38702359604496517\n",
      "Accuracy (train) 5300: 0.9776268628560648\n",
      "Accuracy (test) 5300: 0.9763063572910771\n",
      "Loss (train) 5400: 0.19875244682359874\n",
      "Loss (test) 5400: 0.2001129353021021\n",
      "Accuracy (train) 5400: 0.9777818922421774\n",
      "Accuracy (test) 5400: 0.976541381225699\n",
      "Loss (train) 5500: 0.17436289780167424\n",
      "Loss (test) 5500: 0.22211458367782072\n",
      "Accuracy (train) 5500: 0.9780221777858572\n",
      "Accuracy (test) 5500: 0.9767315033630249\n",
      "Loss (train) 5600: 0.1836165663480935\n",
      "Loss (test) 5600: 0.1579535110501846\n",
      "Accuracy (train) 5600: 0.9782538832351367\n",
      "Accuracy (test) 5600: 0.9770219603642207\n",
      "Loss (train) 5700: 0.21225799958795374\n",
      "Loss (test) 5700: 0.4537137326250623\n",
      "Accuracy (train) 5700: 0.9784423785300825\n",
      "Accuracy (test) 5700: 0.9769864935976145\n",
      "Loss (train) 5800: 0.20362116361770582\n",
      "Loss (test) 5800: 0.33760602352362995\n",
      "Accuracy (train) 5800: 0.9785898982933977\n",
      "Accuracy (test) 5800: 0.9770384416479916\n",
      "Loss (train) 5900: 0.13575088509244482\n",
      "Loss (test) 5900: 0.21043842935739335\n",
      "Accuracy (train) 5900: 0.9787493645144891\n",
      "Accuracy (test) 5900: 0.9772241992882563\n",
      "Loss (train) 6000: 0.18139732103979206\n",
      "Loss (test) 6000: 0.06056300210583505\n",
      "Accuracy (train) 6000: 0.9789701716380605\n",
      "Accuracy (test) 6000: 0.9775704049325112\n",
      "Loss (train) 6100: 0.10758300755354044\n",
      "Loss (test) 6100: 0.13737014206063086\n",
      "Accuracy (train) 6100: 0.9792656941485003\n",
      "Accuracy (test) 6100: 0.9777905261432552\n",
      "Loss (train) 6200: 0.16777820643525576\n",
      "Loss (test) 6200: 0.11810473032243421\n",
      "Accuracy (train) 6200: 0.9795033059184003\n",
      "Accuracy (test) 6200: 0.9780680535397517\n",
      "Loss (train) 6300: 0.20777968998478033\n",
      "Loss (test) 6300: 0.253158831535909\n",
      "Accuracy (train) 6300: 0.9796540231709253\n",
      "Accuracy (test) 6300: 0.9780987144897635\n",
      "Loss (train) 6400: 0.15775178983278168\n",
      "Loss (test) 6400: 0.18234276071978134\n",
      "Accuracy (train) 6400: 0.9798000312451179\n",
      "Accuracy (test) 6400: 0.9782533979065772\n",
      "Loss (train) 6500: 0.3089912383582696\n",
      "Loss (test) 6500: 0.14622339819844213\n",
      "Accuracy (train) 6500: 0.9798954007075833\n",
      "Accuracy (test) 6500: 0.9784187048146439\n",
      "Loss (train) 6600: 0.14285922386842453\n",
      "Loss (test) 6600: 0.14577572387409238\n",
      "Accuracy (train) 6600: 0.9800181790637783\n",
      "Accuracy (test) 6600: 0.9786244508407818\n",
      "Loss (train) 6700: 0.18446777994630145\n",
      "Loss (test) 6700: 0.2486299241026435\n",
      "Accuracy (train) 6700: 0.9801372929413521\n",
      "Accuracy (test) 6700: 0.9787494403820326\n",
      "Loss (train) 6800: 0.16185870163495636\n",
      "Loss (test) 6800: 0.154047625436595\n",
      "Accuracy (train) 6800: 0.9802676077047493\n",
      "Accuracy (test) 6800: 0.9789001617409204\n",
      "Loss (train) 6900: 0.26534929965742093\n",
      "Loss (test) 6900: 0.17188560429776978\n",
      "Accuracy (train) 6900: 0.980350673815389\n",
      "Accuracy (test) 6900: 0.9790175336907696\n",
      "Loss (train) 7000: 0.14302688254470555\n",
      "Loss (test) 7000: 0.20114881796847633\n",
      "Accuracy (train) 7000: 0.9805027853163834\n",
      "Accuracy (test) 7000: 0.9791458363090987\n",
      "Loss (train) 7100: 0.1756783529033064\n",
      "Loss (test) 7100: 0.18486447822937244\n",
      "Accuracy (train) 7100: 0.9806365300661879\n",
      "Accuracy (test) 7100: 0.9792564427545417\n",
      "Loss (train) 7200: 0.25778515061353063\n",
      "Loss (test) 7200: 0.1664877894955645\n",
      "Accuracy (train) 7200: 0.9807387862796834\n",
      "Accuracy (test) 7200: 0.9794334120261075\n",
      "Loss (train) 7300: 0.16178851401544914\n",
      "Loss (test) 7300: 0.24466129606074807\n",
      "Accuracy (train) 7300: 0.9808382413368032\n",
      "Accuracy (test) 7300: 0.9794959594576086\n",
      "Loss (train) 7400: 0.23653011775901117\n",
      "Loss (test) 7400: 0.29170374556252193\n",
      "Accuracy (train) 7400: 0.9808674503445481\n",
      "Accuracy (test) 7400: 0.9795027698959602\n",
      "Loss (train) 7500: 0.3626491479594549\n",
      "Loss (test) 7500: 0.2643958217377395\n",
      "Accuracy (train) 7500: 0.9808425543260899\n",
      "Accuracy (test) 7500: 0.979562724970004\n",
      "Loss (train) 7600: 0.24898786404692572\n",
      "Loss (test) 7600: 0.22850906349137542\n",
      "Accuracy (train) 7600: 0.9809367188527826\n",
      "Accuracy (test) 7600: 0.9796737271411656\n",
      "Loss (train) 7700: 0.26299150955395384\n",
      "Loss (test) 7700: 0.169739468866484\n",
      "Accuracy (train) 7700: 0.9809894818854694\n",
      "Accuracy (test) 7700: 0.9798078171666017\n",
      "Loss (train) 7800: 0.17693854401002074\n",
      "Loss (test) 7800: 0.17684331444090706\n",
      "Accuracy (train) 7800: 0.98106652993206\n",
      "Accuracy (test) 7800: 0.9799000128188694\n",
      "Loss (train) 7900: 0.16820109431056987\n",
      "Loss (test) 7900: 0.1310479156197145\n",
      "Accuracy (train) 7900: 0.9812302240222757\n",
      "Accuracy (test) 7900: 0.9800531578281231\n",
      "Loss (train) 8000: 0.14250697283148234\n",
      "Loss (test) 8000: 0.13778333972322923\n",
      "Accuracy (train) 8000: 0.9813773278340209\n",
      "Accuracy (test) 8000: 0.9802399700037495\n",
      "Loss (train) 8100: 0.15938513879006627\n",
      "Loss (test) 8100: 0.11145984310750806\n",
      "Accuracy (train) 8100: 0.9814590791260339\n",
      "Accuracy (test) 8100: 0.9803851376373288\n",
      "Loss (train) 8200: 0.09057090795814197\n",
      "Loss (test) 8200: 0.20294536310258107\n",
      "Accuracy (train) 8200: 0.981636385806609\n",
      "Accuracy (test) 8200: 0.9805389586635777\n",
      "Loss (train) 8300: 0.09251458686971933\n",
      "Loss (test) 8300: 0.22609763063658858\n",
      "Accuracy (train) 8300: 0.9818094205517408\n",
      "Accuracy (test) 8300: 0.9806649801228768\n",
      "Loss (train) 8400: 0.331457323440984\n",
      "Loss (test) 8400: 0.19529616399548627\n",
      "Accuracy (train) 8400: 0.9817997857397929\n",
      "Accuracy (test) 8400: 0.9806927746696823\n",
      "Loss (train) 8500: 0.19327269922401036\n",
      "Loss (test) 8500: 0.17302213774891487\n",
      "Accuracy (train) 8500: 0.9819197741442183\n",
      "Accuracy (test) 8500: 0.9807904952358547\n",
      "Loss (train) 8600: 0.12759761326412689\n",
      "Loss (test) 8600: 0.15534896995584327\n",
      "Accuracy (train) 8600: 0.9820369724450645\n",
      "Accuracy (test) 8600: 0.9808743169398907\n",
      "Loss (train) 8700: 0.23088871052682666\n",
      "Loss (test) 8700: 0.3766226254314532\n",
      "Accuracy (train) 8700: 0.9820250545914263\n",
      "Accuracy (test) 8700: 0.9809102402022758\n",
      "Loss (train) 8800: 0.22376546027266125\n",
      "Loss (test) 8800: 0.24931746069702473\n",
      "Accuracy (train) 8800: 0.982070219293262\n",
      "Accuracy (test) 8800: 0.9809453471196456\n",
      "Loss (train) 8900: 0.23390160190075804\n",
      "Loss (test) 8900: 0.25584047834342427\n",
      "Accuracy (train) 8900: 0.9821256038647342\n",
      "Accuracy (test) 8900: 0.9809908998988879\n",
      "Loss (train) 9000: 0.1376567091177015\n",
      "Loss (test) 9000: 0.20185873709122748\n",
      "Accuracy (train) 9000: 0.9822464170647704\n",
      "Accuracy (test) 9000: 0.9810687701366515\n",
      "Loss (train) 9100: 0.19517119510925202\n",
      "Loss (test) 9100: 0.2765262100993404\n",
      "Accuracy (train) 9100: 0.9823096363037029\n",
      "Accuracy (test) 9100: 0.9811229535215911\n",
      "Loss (train) 9200: 0.21446527062498025\n",
      "Loss (test) 9200: 0.26340891907461994\n",
      "Accuracy (train) 9200: 0.9823606129768502\n",
      "Accuracy (test) 9200: 0.9811976959026193\n",
      "Loss (train) 9300: 0.10681781894871\n",
      "Loss (test) 9300: 0.27705435802607725\n",
      "Accuracy (train) 9300: 0.9824857542199764\n",
      "Accuracy (test) 9300: 0.9812278249650577\n",
      "Loss (train) 9400: 0.18327389926271936\n",
      "Loss (test) 9400: 0.16285199232228564\n",
      "Accuracy (train) 9400: 0.9825231358366132\n",
      "Accuracy (test) 9400: 0.9813424103818743\n",
      "Loss (train) 9500: 0.19176018416775917\n",
      "Loss (test) 9500: 0.12713623538109006\n",
      "Accuracy (train) 9500: 0.9825702557625513\n",
      "Accuracy (test) 9500: 0.9814756341437744\n",
      "Loss (train) 9600: 0.172587692543766\n",
      "Loss (test) 9600: 0.20576734352729192\n",
      "Accuracy (train) 9600: 0.9826476408707426\n",
      "Accuracy (test) 9600: 0.9815331736277472\n",
      "Loss (train) 9700: 0.2850973397400325\n",
      "Loss (test) 9700: 0.3167897943042695\n",
      "Accuracy (train) 9700: 0.9826615812802804\n",
      "Accuracy (test) 9700: 0.9815482939903103\n",
      "Loss (train) 9800: 0.2732743810632296\n",
      "Loss (test) 9800: 0.0972449888568573\n",
      "Accuracy (train) 9800: 0.9826752372206918\n",
      "Accuracy (test) 9800: 0.9816855422916029\n",
      "Loss (train) 9900: 0.24906597270716385\n",
      "Loss (test) 9900: 0.09260711847342912\n",
      "Accuracy (train) 9900: 0.9826785173214827\n",
      "Accuracy (test) 9900: 0.9818200181799818\n",
      "Loss (train) 10000: 0.1607131820224188\n",
      "Loss (test) 10000: 0.22843532517616252\n",
      "Accuracy (train) 10000: 0.9827717228277171\n",
      "Accuracy (test) 10000: 0.9818718128187182\n"
     ]
    }
   ],
   "execution_count": 280
  },
  {
   "metadata": {},
   "cell_type": "markdown",
   "source": "## Plotting Training and Validation losses",
   "id": "373e782ac044f0c5"
  },
  {
   "metadata": {
    "ExecuteTime": {
     "end_time": "2024-10-06T10:14:55.928186Z",
     "start_time": "2024-10-06T10:14:55.884787Z"
    }
   },
   "cell_type": "code",
   "source": [
    "plt.plot(range(0, epochs, decay_step), train_losses, label='train')\n",
    "plt.plot(range(0, epochs, decay_step), test_losses, label='test')\n",
    "plt.show()"
   ],
   "id": "ecd26ea25f51f606",
   "outputs": [
    {
     "data": {
      "text/plain": [
       "<Figure size 640x480 with 1 Axes>"
      ],
      "image/png": "[encoded data removed]"
     },
     "metadata": {},
     "output_type": "display_data"
    }
   ],
   "execution_count": 281
  },
  {
   "metadata": {},
   "cell_type": "markdown",
   "source": "## Testing NN on Test set",
   "id": "88ccf0d0510a0991"
  },
  {
   "metadata": {
    "ExecuteTime": {
     "end_time": "2024-10-06T10:15:00.461905Z",
     "start_time": "2024-10-06T10:15:00.374092Z"
    }
   },
   "cell_type": "code",
   "source": "output = nn.forward(test_images, is_training = False)",
   "id": "eb751ef6ba76d150",
   "outputs": [],
   "execution_count": 282
  },
  {
   "metadata": {
    "ExecuteTime": {
     "end_time": "2024-10-06T10:15:00.910960Z",
     "start_time": "2024-10-06T10:15:00.869029Z"
    }
   },
   "cell_type": "code",
   "source": [
    "rand_idx = np.random.randint(0, test_images.shape[0])\n",
    "predicted_label = np.argmax(nn.forward(test_images[rand_idx], is_training = False))\n",
    "true_label = test_labels[rand_idx]\n",
    "print(f\"Predicted label: {predicted_label}\")\n",
    "print(f\"True label: {true_label}\")\n",
    "plot_image(reshaped_images[rand_idx])"
   ],
   "id": "6c89f6aaee288758",
   "outputs": [
    {
     "name": "stdout",
     "output_type": "stream",
     "text": [
      "Predicted label: 5\n",
      "True label: 5\n"
     ]
    },
    {
     "data": {
      "text/plain": [
       "<Figure size 640x480 with 1 Axes>"
      ],
      "image/png": "[encoded data removed]"
     },
     "metadata": {},
     "output_type": "display_data"
    }
   ],
   "execution_count": 283
  },
  {
   "metadata": {},
   "cell_type": "markdown",
   "source": "## Plotting weights from first layer (just for fun and maybe see some insights)",
   "id": "90044b893578b32e"
  },
  {
   "metadata": {
    "ExecuteTime": {
     "end_time": "2024-10-06T10:15:05.623448Z",
     "start_time": "2024-10-06T10:15:05.220789Z"
    }
   },
   "cell_type": "code",
   "source": [
    "for i in range(10):\n",
    "    plot_image(nn.layers[0].weights[:,i + 500].reshape((28, 28)))"
   ],
   "id": "deca4f8b5982f43c",
   "outputs": [
    {
     "data": {
      "text/plain": [
       "<Figure size 640x480 with 1 Axes>"
      ],
      "image/png": "[encoded data removed]"
     },
     "metadata": {},
     "output_type": "display_data"
    },
    {
     "data": {
      "text/plain": [
       "<Figure size 640x480 with 1 Axes>"
      ],
      "image/png": "[encoded data removed]"
     },
     "metadata": {},
     "output_type": "display_data"
    },
    {
     "data": {
      "text/plain": [
       "<Figure size 640x480 with 1 Axes>"
      ],
      "image/png": "[encoded data removed]"
     },
     "metadata": {},
     "output_type": "display_data"
    },
    {
     "data": {
      "text/plain": [
       "<Figure size 640x480 with 1 Axes>"
      ],
      "image/png": "[encoded data removed]"
     },
     "metadata": {},
     "output_type": "display_data"
    },
    {
     "data": {
      "text/plain": [
       "<Figure size 640x480 with 1 Axes>"
      ],
      "image/png": "[encoded data removed]"
     },
     "metadata": {},
     "output_type": "display_data"
    },
    {
     "data": {
      "text/plain": [
       "<Figure size 640x480 with 1 Axes>"
      ],
      "image/png": "[encoded data removed]"
     },
     "metadata": {},
     "output_type": "display_data"
    },
    {
     "data": {
      "text/plain": [
       "<Figure size 640x480 with 1 Axes>"
      ],
      "image/png": "[encoded data removed]"
     },
     "metadata": {},
     "output_type": "display_data"
    },
    {
     "data": {
      "text/plain": [
       "<Figure size 640x480 with 1 Axes>"
      ],
      "image/png": "[encoded data removed]"
     },
     "metadata": {},
     "output_type": "display_data"
    },
    {
     "data": {
      "text/plain": [
       "<Figure size 640x480 with 1 Axes>"
      ],
      "image/png": "[encoded data removed]"
     },
     "metadata": {},
     "output_type": "display_data"
    },
    {
     "data": {
      "text/plain": [
       "<Figure size 640x480 with 1 Axes>"
      ],
      "image/png": "[encoded data removed]"
     },
     "metadata": {},
     "output_type": "display_data"
    }
   ],
   "execution_count": 284
  },
  {
   "metadata": {},
   "cell_type": "code",
   "outputs": [],
   "execution_count": null,
   "source": "",
   "id": "e6f35e05efd3b886"
  }
 ],
 "metadata": {
  "kernelspec": {
   "display_name": "Python 3",
   "language": "python",
   "name": "python3"
  },
  "language_info": {
   "codemirror_mode": {
    "name": "ipython",
    "version": 2
   },
   "file_extension": ".py",
   "mimetype": "text/x-python",
   "name": "python",
   "nbconvert_exporter": "python",
   "pygments_lexer": "ipython2",
   "version": "2.7.6"
  }
 },
 "nbformat": 4,
 "nbformat_minor": 5
}
